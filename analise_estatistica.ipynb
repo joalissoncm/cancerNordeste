{
  "nbformat": 4,
  "nbformat_minor": 0,
  "metadata": {
    "colab": {
      "name": "analise_estatistica.ipynb",
      "provenance": [],
      "mount_file_id": "1zD4Fq07WhuKPBNSavgRUdyVcNYwayMSq",
      "authorship_tag": "ABX9TyNfgLFhVq1wCnLcitsu39VB",
      "include_colab_link": true
    },
    "kernelspec": {
      "name": "python3",
      "display_name": "Python 3"
    },
    "language_info": {
      "name": "python"
    }
  },
  "cells": [
    {
      "cell_type": "markdown",
      "metadata": {
        "id": "view-in-github",
        "colab_type": "text"
      },
      "source": [
        "<a href=\"https://colab.research.google.com/github/joalissoncm/cancerparaiba/blob/main/analise_estatistica.ipynb\" target=\"_parent\"><img src=\"https://colab.research.google.com/assets/colab-badge.svg\" alt=\"Open In Colab\"/></a>"
      ]
    },
    {
      "cell_type": "code",
      "metadata": {
        "id": "HvfCBOWwBOt9"
      },
      "source": [
        "#Importando as bibliotecas necessárias.\n",
        "import pandas as pd\n",
        "import numpy as np\n",
        "import seaborn as sns\n",
        "import matplotlib.pyplot as plt\n",
        "\n",
        "sns.set()"
      ],
      "execution_count": null,
      "outputs": []
    },
    {
      "cell_type": "markdown",
      "source": [
        "Taxas de mortalidade pelas topografias selecionadas*, brutas e ajustadas por idade, pelas populações mundial e brasileira de 2010, por 100.000 homens e mulheres, na região Nordeste, entre 2015 e 2019."
      ],
      "metadata": {
        "id": "KQvOWQeQR2f3"
      }
    },
    {
      "cell_type": "code",
      "metadata": {
        "id": "sUMIwR9GBP0I"
      },
      "source": [
        "#Importando os dados que tirei do Instituto Nacional de Câncer(INCA).\n",
        "dados = pd.read_csv(\"https://raw.githubusercontent.com/joalissoncm/cancerparaiba/main/dataset/cancer_stats%20-%20Modelo05_20220311082945.csv\")"
      ],
      "execution_count": null,
      "outputs": []
    },
    {
      "cell_type": "code",
      "source": [
        "#Conferindo se os dados não tem dados nulos.\n",
        "dados.info()"
      ],
      "metadata": {
        "colab": {
          "base_uri": "https://localhost:8080/"
        },
        "id": "yGlOyjitQ6Xu",
        "outputId": "37c5f28c-22a8-440c-95e3-3fff0af8ef5b"
      },
      "execution_count": null,
      "outputs": [
        {
          "output_type": "stream",
          "name": "stdout",
          "text": [
            "<class 'pandas.core.frame.DataFrame'>\n",
            "RangeIndex: 10 entries, 0 to 9\n",
            "Data columns (total 17 columns):\n",
            " #   Column           Non-Null Count  Dtype \n",
            "---  ------           --------------  ----- \n",
            " 0   LOCALIDADE       10 non-null     object\n",
            " 1   TAXA1            10 non-null     object\n",
            " 2   TAXA2            10 non-null     object\n",
            " 3   TAXA3            10 non-null     object\n",
            " 4   TAXA4            10 non-null     object\n",
            " 5   TAXA5            10 non-null     object\n",
            " 6   TAXA6            10 non-null     object\n",
            " 7   TAXA7            10 non-null     object\n",
            " 8   TAXA8            10 non-null     object\n",
            " 9   TAXA9            10 non-null     object\n",
            " 10  TAXA10           10 non-null     object\n",
            " 11  TAXA11           10 non-null     object\n",
            " 12  Idade ignorada   10 non-null     object\n",
            " 13  TAXA BRUTA       10 non-null     object\n",
            " 14  Classificação    9 non-null      object\n",
            " 15  Pop. Mundial(1)  10 non-null     object\n",
            " 16  Pop. Brasil(2)   10 non-null     object\n",
            "dtypes: object(17)\n",
            "memory usage: 1.5+ KB\n"
          ]
        }
      ]
    },
    {
      "cell_type": "code",
      "source": [
        "#Conferindo o formato da base de dados. O que é útil quando se trabalha com imensas quantidades de dados.\n",
        "dados.shape"
      ],
      "metadata": {
        "id": "VqaeYSoXnTsd",
        "colab": {
          "base_uri": "https://localhost:8080/"
        },
        "outputId": "b682b4da-e889-4093-b28c-e9e843f9d72e"
      },
      "execution_count": null,
      "outputs": [
        {
          "output_type": "execute_result",
          "data": {
            "text/plain": [
              "(10, 17)"
            ]
          },
          "metadata": {},
          "execution_count": 44
        }
      ]
    },
    {
      "cell_type": "code",
      "source": [
        "#Verificando se não tem valores duplicados\n",
        "print(\"Duplicated values: \", dados.duplicated().sum())"
      ],
      "metadata": {
        "colab": {
          "base_uri": "https://localhost:8080/"
        },
        "id": "cT2TDaOXsefP",
        "outputId": "df9401ac-30c9-48c6-d55f-8874655014ac"
      },
      "execution_count": null,
      "outputs": [
        {
          "output_type": "stream",
          "name": "stdout",
          "text": [
            "Duplicated values:  0\n"
          ]
        }
      ]
    },
    {
      "cell_type": "code",
      "source": [
        "#Finalmente observando as informações\n",
        "dados.head(10)"
      ],
      "metadata": {
        "colab": {
          "base_uri": "https://localhost:8080/",
          "height": 479
        },
        "id": "dh013wQacNDv",
        "outputId": "3d573432-795d-44df-dca0-ef0fcba802d3"
      },
      "execution_count": null,
      "outputs": [
        {
          "output_type": "execute_result",
          "data": {
            "text/plain": [
              "            LOCALIDADE    TAXA1    TAXA2    TAXA3    TAXA4    TAXA5    TAXA6  \\\n",
              "0                    -  00 a 04  05 a 09  10 a 14  15 a 19  20 a 29  30 a 39   \n",
              "1              Alagoas        0        0     0,06     0,25     1,66      6,6   \n",
              "2                Bahia     0,03     0,02     0,06      0,2     1,01     6,34   \n",
              "3                Ceará     0,03        0     0,05     0,17     1,23     7,45   \n",
              "4             Maranhão     0,03     0,03     0,19     0,18     1,32     8,25   \n",
              "5              Paraíba     0,06        0        0     0,43     1,34     6,55   \n",
              "6           Pernambuco        0     0,03     0,02     0,25     1,46     7,85   \n",
              "7                Piauí        0        0        0     0,28     1,63     8,51   \n",
              "8  Rio Grande do Norte     0,15        0        0     0,34     1,31     6,74   \n",
              "9              Sergipe        0        0        0     0,19     1,31     9,75   \n",
              "\n",
              "     TAXA7    TAXA8    TAXA9   TAXA10      TAXA11  Idade ignorada  TAXA BRUTA  \\\n",
              "0  40 a 49  50 a 59  60 a 69  70 a 79  80 ou mais  Idade ignorada  Taxa Bruta   \n",
              "1    22,11    51,52   106,71   214,23      427,25               0       24,68   \n",
              "2    19,85    47,91   111,81   219,58      476,45               0       29,24   \n",
              "3    22,49    62,02   141,77   295,95      605,43               0       36,99   \n",
              "4    22,15    49,59    111,7   235,01      422,85               0       23,57   \n",
              "5    20,58    50,01   118,84   238,67      532,27               0       33,41   \n",
              "6    23,68    60,59   135,55   277,03      588,48               0       35,78   \n",
              "7    21,71    51,17   130,12   268,96       613,7               0       32,79   \n",
              "8    20,92    59,53   132,87    276,6      566,34               0       35,78   \n",
              "9    23,09    63,72   129,02   270,36      586,55               0        31,1   \n",
              "\n",
              "   Classificação  Pop. Mundial(1)  Pop. Brasil(2)  \n",
              "0  Classificação  Pop. Mundial(1)  Pop. Brasil(2)  \n",
              "1              8            26,54           29,21  \n",
              "2              7            26,82           29,65  \n",
              "3              1            34,25           37,85  \n",
              "4              4            27,46           30,15  \n",
              "5              2            28,82           31,96  \n",
              "6              5            33,18           36,72  \n",
              "7              3            31,83           35,48  \n",
              "8              6            32,17           35,53  \n",
              "9            NaN            32,91           36,57  "
            ],
            "text/html": [
              "\n",
              "  <div id=\"df-d1eea60e-d103-47d5-96e7-2cc3c356fa23\">\n",
              "    <div class=\"colab-df-container\">\n",
              "      <div>\n",
              "<style scoped>\n",
              "    .dataframe tbody tr th:only-of-type {\n",
              "        vertical-align: middle;\n",
              "    }\n",
              "\n",
              "    .dataframe tbody tr th {\n",
              "        vertical-align: top;\n",
              "    }\n",
              "\n",
              "    .dataframe thead th {\n",
              "        text-align: right;\n",
              "    }\n",
              "</style>\n",
              "<table border=\"1\" class=\"dataframe\">\n",
              "  <thead>\n",
              "    <tr style=\"text-align: right;\">\n",
              "      <th></th>\n",
              "      <th>LOCALIDADE</th>\n",
              "      <th>TAXA1</th>\n",
              "      <th>TAXA2</th>\n",
              "      <th>TAXA3</th>\n",
              "      <th>TAXA4</th>\n",
              "      <th>TAXA5</th>\n",
              "      <th>TAXA6</th>\n",
              "      <th>TAXA7</th>\n",
              "      <th>TAXA8</th>\n",
              "      <th>TAXA9</th>\n",
              "      <th>TAXA10</th>\n",
              "      <th>TAXA11</th>\n",
              "      <th>Idade ignorada</th>\n",
              "      <th>TAXA BRUTA</th>\n",
              "      <th>Classificação</th>\n",
              "      <th>Pop. Mundial(1)</th>\n",
              "      <th>Pop. Brasil(2)</th>\n",
              "    </tr>\n",
              "  </thead>\n",
              "  <tbody>\n",
              "    <tr>\n",
              "      <th>0</th>\n",
              "      <td>-</td>\n",
              "      <td>00 a 04</td>\n",
              "      <td>05 a 09</td>\n",
              "      <td>10 a 14</td>\n",
              "      <td>15 a 19</td>\n",
              "      <td>20 a 29</td>\n",
              "      <td>30 a 39</td>\n",
              "      <td>40 a 49</td>\n",
              "      <td>50 a 59</td>\n",
              "      <td>60 a 69</td>\n",
              "      <td>70 a 79</td>\n",
              "      <td>80 ou mais</td>\n",
              "      <td>Idade ignorada</td>\n",
              "      <td>Taxa Bruta</td>\n",
              "      <td>Classificação</td>\n",
              "      <td>Pop. Mundial(1)</td>\n",
              "      <td>Pop. Brasil(2)</td>\n",
              "    </tr>\n",
              "    <tr>\n",
              "      <th>1</th>\n",
              "      <td>Alagoas</td>\n",
              "      <td>0</td>\n",
              "      <td>0</td>\n",
              "      <td>0,06</td>\n",
              "      <td>0,25</td>\n",
              "      <td>1,66</td>\n",
              "      <td>6,6</td>\n",
              "      <td>22,11</td>\n",
              "      <td>51,52</td>\n",
              "      <td>106,71</td>\n",
              "      <td>214,23</td>\n",
              "      <td>427,25</td>\n",
              "      <td>0</td>\n",
              "      <td>24,68</td>\n",
              "      <td>8</td>\n",
              "      <td>26,54</td>\n",
              "      <td>29,21</td>\n",
              "    </tr>\n",
              "    <tr>\n",
              "      <th>2</th>\n",
              "      <td>Bahia</td>\n",
              "      <td>0,03</td>\n",
              "      <td>0,02</td>\n",
              "      <td>0,06</td>\n",
              "      <td>0,2</td>\n",
              "      <td>1,01</td>\n",
              "      <td>6,34</td>\n",
              "      <td>19,85</td>\n",
              "      <td>47,91</td>\n",
              "      <td>111,81</td>\n",
              "      <td>219,58</td>\n",
              "      <td>476,45</td>\n",
              "      <td>0</td>\n",
              "      <td>29,24</td>\n",
              "      <td>7</td>\n",
              "      <td>26,82</td>\n",
              "      <td>29,65</td>\n",
              "    </tr>\n",
              "    <tr>\n",
              "      <th>3</th>\n",
              "      <td>Ceará</td>\n",
              "      <td>0,03</td>\n",
              "      <td>0</td>\n",
              "      <td>0,05</td>\n",
              "      <td>0,17</td>\n",
              "      <td>1,23</td>\n",
              "      <td>7,45</td>\n",
              "      <td>22,49</td>\n",
              "      <td>62,02</td>\n",
              "      <td>141,77</td>\n",
              "      <td>295,95</td>\n",
              "      <td>605,43</td>\n",
              "      <td>0</td>\n",
              "      <td>36,99</td>\n",
              "      <td>1</td>\n",
              "      <td>34,25</td>\n",
              "      <td>37,85</td>\n",
              "    </tr>\n",
              "    <tr>\n",
              "      <th>4</th>\n",
              "      <td>Maranhão</td>\n",
              "      <td>0,03</td>\n",
              "      <td>0,03</td>\n",
              "      <td>0,19</td>\n",
              "      <td>0,18</td>\n",
              "      <td>1,32</td>\n",
              "      <td>8,25</td>\n",
              "      <td>22,15</td>\n",
              "      <td>49,59</td>\n",
              "      <td>111,7</td>\n",
              "      <td>235,01</td>\n",
              "      <td>422,85</td>\n",
              "      <td>0</td>\n",
              "      <td>23,57</td>\n",
              "      <td>4</td>\n",
              "      <td>27,46</td>\n",
              "      <td>30,15</td>\n",
              "    </tr>\n",
              "    <tr>\n",
              "      <th>5</th>\n",
              "      <td>Paraíba</td>\n",
              "      <td>0,06</td>\n",
              "      <td>0</td>\n",
              "      <td>0</td>\n",
              "      <td>0,43</td>\n",
              "      <td>1,34</td>\n",
              "      <td>6,55</td>\n",
              "      <td>20,58</td>\n",
              "      <td>50,01</td>\n",
              "      <td>118,84</td>\n",
              "      <td>238,67</td>\n",
              "      <td>532,27</td>\n",
              "      <td>0</td>\n",
              "      <td>33,41</td>\n",
              "      <td>2</td>\n",
              "      <td>28,82</td>\n",
              "      <td>31,96</td>\n",
              "    </tr>\n",
              "    <tr>\n",
              "      <th>6</th>\n",
              "      <td>Pernambuco</td>\n",
              "      <td>0</td>\n",
              "      <td>0,03</td>\n",
              "      <td>0,02</td>\n",
              "      <td>0,25</td>\n",
              "      <td>1,46</td>\n",
              "      <td>7,85</td>\n",
              "      <td>23,68</td>\n",
              "      <td>60,59</td>\n",
              "      <td>135,55</td>\n",
              "      <td>277,03</td>\n",
              "      <td>588,48</td>\n",
              "      <td>0</td>\n",
              "      <td>35,78</td>\n",
              "      <td>5</td>\n",
              "      <td>33,18</td>\n",
              "      <td>36,72</td>\n",
              "    </tr>\n",
              "    <tr>\n",
              "      <th>7</th>\n",
              "      <td>Piauí</td>\n",
              "      <td>0</td>\n",
              "      <td>0</td>\n",
              "      <td>0</td>\n",
              "      <td>0,28</td>\n",
              "      <td>1,63</td>\n",
              "      <td>8,51</td>\n",
              "      <td>21,71</td>\n",
              "      <td>51,17</td>\n",
              "      <td>130,12</td>\n",
              "      <td>268,96</td>\n",
              "      <td>613,7</td>\n",
              "      <td>0</td>\n",
              "      <td>32,79</td>\n",
              "      <td>3</td>\n",
              "      <td>31,83</td>\n",
              "      <td>35,48</td>\n",
              "    </tr>\n",
              "    <tr>\n",
              "      <th>8</th>\n",
              "      <td>Rio Grande do Norte</td>\n",
              "      <td>0,15</td>\n",
              "      <td>0</td>\n",
              "      <td>0</td>\n",
              "      <td>0,34</td>\n",
              "      <td>1,31</td>\n",
              "      <td>6,74</td>\n",
              "      <td>20,92</td>\n",
              "      <td>59,53</td>\n",
              "      <td>132,87</td>\n",
              "      <td>276,6</td>\n",
              "      <td>566,34</td>\n",
              "      <td>0</td>\n",
              "      <td>35,78</td>\n",
              "      <td>6</td>\n",
              "      <td>32,17</td>\n",
              "      <td>35,53</td>\n",
              "    </tr>\n",
              "    <tr>\n",
              "      <th>9</th>\n",
              "      <td>Sergipe</td>\n",
              "      <td>0</td>\n",
              "      <td>0</td>\n",
              "      <td>0</td>\n",
              "      <td>0,19</td>\n",
              "      <td>1,31</td>\n",
              "      <td>9,75</td>\n",
              "      <td>23,09</td>\n",
              "      <td>63,72</td>\n",
              "      <td>129,02</td>\n",
              "      <td>270,36</td>\n",
              "      <td>586,55</td>\n",
              "      <td>0</td>\n",
              "      <td>31,1</td>\n",
              "      <td>NaN</td>\n",
              "      <td>32,91</td>\n",
              "      <td>36,57</td>\n",
              "    </tr>\n",
              "  </tbody>\n",
              "</table>\n",
              "</div>\n",
              "      <button class=\"colab-df-convert\" onclick=\"convertToInteractive('df-d1eea60e-d103-47d5-96e7-2cc3c356fa23')\"\n",
              "              title=\"Convert this dataframe to an interactive table.\"\n",
              "              style=\"display:none;\">\n",
              "        \n",
              "  <svg xmlns=\"http://www.w3.org/2000/svg\" height=\"24px\"viewBox=\"0 0 24 24\"\n",
              "       width=\"24px\">\n",
              "    <path d=\"M0 0h24v24H0V0z\" fill=\"none\"/>\n",
              "    <path d=\"M18.56 5.44l.94 2.06.94-2.06 2.06-.94-2.06-.94-.94-2.06-.94 2.06-2.06.94zm-11 1L8.5 8.5l.94-2.06 2.06-.94-2.06-.94L8.5 2.5l-.94 2.06-2.06.94zm10 10l.94 2.06.94-2.06 2.06-.94-2.06-.94-.94-2.06-.94 2.06-2.06.94z\"/><path d=\"M17.41 7.96l-1.37-1.37c-.4-.4-.92-.59-1.43-.59-.52 0-1.04.2-1.43.59L10.3 9.45l-7.72 7.72c-.78.78-.78 2.05 0 2.83L4 21.41c.39.39.9.59 1.41.59.51 0 1.02-.2 1.41-.59l7.78-7.78 2.81-2.81c.8-.78.8-2.07 0-2.86zM5.41 20L4 18.59l7.72-7.72 1.47 1.35L5.41 20z\"/>\n",
              "  </svg>\n",
              "      </button>\n",
              "      \n",
              "  <style>\n",
              "    .colab-df-container {\n",
              "      display:flex;\n",
              "      flex-wrap:wrap;\n",
              "      gap: 12px;\n",
              "    }\n",
              "\n",
              "    .colab-df-convert {\n",
              "      background-color: #E8F0FE;\n",
              "      border: none;\n",
              "      border-radius: 50%;\n",
              "      cursor: pointer;\n",
              "      display: none;\n",
              "      fill: #1967D2;\n",
              "      height: 32px;\n",
              "      padding: 0 0 0 0;\n",
              "      width: 32px;\n",
              "    }\n",
              "\n",
              "    .colab-df-convert:hover {\n",
              "      background-color: #E2EBFA;\n",
              "      box-shadow: 0px 1px 2px rgba(60, 64, 67, 0.3), 0px 1px 3px 1px rgba(60, 64, 67, 0.15);\n",
              "      fill: #174EA6;\n",
              "    }\n",
              "\n",
              "    [theme=dark] .colab-df-convert {\n",
              "      background-color: #3B4455;\n",
              "      fill: #D2E3FC;\n",
              "    }\n",
              "\n",
              "    [theme=dark] .colab-df-convert:hover {\n",
              "      background-color: #434B5C;\n",
              "      box-shadow: 0px 1px 3px 1px rgba(0, 0, 0, 0.15);\n",
              "      filter: drop-shadow(0px 1px 2px rgba(0, 0, 0, 0.3));\n",
              "      fill: #FFFFFF;\n",
              "    }\n",
              "  </style>\n",
              "\n",
              "      <script>\n",
              "        const buttonEl =\n",
              "          document.querySelector('#df-d1eea60e-d103-47d5-96e7-2cc3c356fa23 button.colab-df-convert');\n",
              "        buttonEl.style.display =\n",
              "          google.colab.kernel.accessAllowed ? 'block' : 'none';\n",
              "\n",
              "        async function convertToInteractive(key) {\n",
              "          const element = document.querySelector('#df-d1eea60e-d103-47d5-96e7-2cc3c356fa23');\n",
              "          const dataTable =\n",
              "            await google.colab.kernel.invokeFunction('convertToInteractive',\n",
              "                                                     [key], {});\n",
              "          if (!dataTable) return;\n",
              "\n",
              "          const docLinkHtml = 'Like what you see? Visit the ' +\n",
              "            '<a target=\"_blank\" href=https://colab.research.google.com/notebooks/data_table.ipynb>data table notebook</a>'\n",
              "            + ' to learn more about interactive tables.';\n",
              "          element.innerHTML = '';\n",
              "          dataTable['output_type'] = 'display_data';\n",
              "          await google.colab.output.renderOutput(dataTable, element);\n",
              "          const docLink = document.createElement('div');\n",
              "          docLink.innerHTML = docLinkHtml;\n",
              "          element.appendChild(docLink);\n",
              "        }\n",
              "      </script>\n",
              "    </div>\n",
              "  </div>\n",
              "  "
            ]
          },
          "metadata": {},
          "execution_count": 46
        }
      ]
    },
    {
      "cell_type": "markdown",
      "source": [
        "## **Explorando os dados**\n",
        "Partindo para a análise estatística e exploratória"
      ],
      "metadata": {
        "id": "f_Y3pYzcSUeW"
      }
    },
    {
      "cell_type": "markdown",
      "source": [
        "#### Números de casos de câncers entre pessoas de 0 a 4 anos divididos por estado"
      ],
      "metadata": {
        "id": "Kj13_T6keH3G"
      }
    },
    {
      "cell_type": "code",
      "source": [
        "dados.groupby(['LOCALIDADE']).TAXA1.max().sort_values(ascending=False)[:12]"
      ],
      "metadata": {
        "colab": {
          "base_uri": "https://localhost:8080/"
        },
        "id": "MZ-atUZycnN2",
        "outputId": "351fbcc3-0af0-4069-e3aa-2f36f02b0c83"
      },
      "execution_count": null,
      "outputs": [
        {
          "output_type": "execute_result",
          "data": {
            "text/plain": [
              "LOCALIDADE\n",
              "-                      00 a 04\n",
              "Rio Grande do Norte       0,15\n",
              "Paraíba                   0,06\n",
              "Bahia                     0,03\n",
              "Ceará                     0,03\n",
              "Maranhão                  0,03\n",
              "Alagoas                      0\n",
              "Pernambuco                   0\n",
              "Piauí                        0\n",
              "Sergipe                      0\n",
              "Name: TAXA1, dtype: object"
            ]
          },
          "metadata": {},
          "execution_count": 47
        }
      ]
    },
    {
      "cell_type": "markdown",
      "source": [
        "#### Números de casos de câncers entre pessoas de 5 a 9 anos divididos por estado"
      ],
      "metadata": {
        "id": "ELFq1VSsfLkW"
      }
    },
    {
      "cell_type": "code",
      "source": [
        "dados.groupby(['LOCALIDADE']).TAXA2.max().sort_values(ascending=False)[:12]"
      ],
      "metadata": {
        "colab": {
          "base_uri": "https://localhost:8080/"
        },
        "id": "sl0tintAfFXl",
        "outputId": "767200a6-e7c0-46ce-e78a-7f903fbe9c82"
      },
      "execution_count": null,
      "outputs": [
        {
          "output_type": "execute_result",
          "data": {
            "text/plain": [
              "LOCALIDADE\n",
              "-                      05 a 09\n",
              "Maranhão                  0,03\n",
              "Pernambuco                0,03\n",
              "Bahia                     0,02\n",
              "Alagoas                      0\n",
              "Ceará                        0\n",
              "Paraíba                      0\n",
              "Piauí                        0\n",
              "Rio Grande do Norte          0\n",
              "Sergipe                      0\n",
              "Name: TAXA2, dtype: object"
            ]
          },
          "metadata": {},
          "execution_count": 48
        }
      ]
    },
    {
      "cell_type": "markdown",
      "source": [
        "#### Números de casos de câncers entre pessoas de 10 a 14 anos divididos por estado"
      ],
      "metadata": {
        "id": "n5MJQcnRfaeO"
      }
    },
    {
      "cell_type": "code",
      "source": [
        "dados.groupby(['LOCALIDADE']).TAXA3.max().sort_values(ascending=False)[:12]"
      ],
      "metadata": {
        "colab": {
          "base_uri": "https://localhost:8080/"
        },
        "id": "yjr9XBzXfOdU",
        "outputId": "4b40f6b0-d546-4666-b820-1b0f095d7036"
      },
      "execution_count": null,
      "outputs": [
        {
          "output_type": "execute_result",
          "data": {
            "text/plain": [
              "LOCALIDADE\n",
              "-                      10 a 14\n",
              "Maranhão                  0,19\n",
              "Alagoas                   0,06\n",
              "Bahia                     0,06\n",
              "Ceará                     0,05\n",
              "Pernambuco                0,02\n",
              "Paraíba                      0\n",
              "Piauí                        0\n",
              "Rio Grande do Norte          0\n",
              "Sergipe                      0\n",
              "Name: TAXA3, dtype: object"
            ]
          },
          "metadata": {},
          "execution_count": 49
        }
      ]
    },
    {
      "cell_type": "markdown",
      "source": [
        "#### Números de casos de câncers entre pessoas de 15 a 19 anos divididos por estado"
      ],
      "metadata": {
        "id": "bp6lZXRTfnck"
      }
    },
    {
      "cell_type": "code",
      "source": [
        "dados.groupby(['LOCALIDADE']).TAXA4.max().sort_values(ascending=False)[:12]"
      ],
      "metadata": {
        "colab": {
          "base_uri": "https://localhost:8080/"
        },
        "id": "Pq7ucn8Jfouc",
        "outputId": "87791a2c-9a7e-44bd-e5f4-bd7a5a766ad3"
      },
      "execution_count": null,
      "outputs": [
        {
          "output_type": "execute_result",
          "data": {
            "text/plain": [
              "LOCALIDADE\n",
              "-                      15 a 19\n",
              "Paraíba                   0,43\n",
              "Rio Grande do Norte       0,34\n",
              "Piauí                     0,28\n",
              "Alagoas                   0,25\n",
              "Pernambuco                0,25\n",
              "Bahia                      0,2\n",
              "Sergipe                   0,19\n",
              "Maranhão                  0,18\n",
              "Ceará                     0,17\n",
              "Name: TAXA4, dtype: object"
            ]
          },
          "metadata": {},
          "execution_count": 8
        }
      ]
    },
    {
      "cell_type": "markdown",
      "source": [
        "#### Números de casos de câncers entre pessoas de 20 a 29 anos divididos por estado"
      ],
      "metadata": {
        "id": "q3YqBFsAf8xu"
      }
    },
    {
      "cell_type": "code",
      "source": [
        "dados.groupby(['LOCALIDADE']).TAXA5.max().sort_values(ascending=False)[:12]"
      ],
      "metadata": {
        "colab": {
          "base_uri": "https://localhost:8080/"
        },
        "id": "FVtVE8hTgBY0",
        "outputId": "dd4cbc40-1972-45bc-fbad-8c7758c032f8"
      },
      "execution_count": null,
      "outputs": [
        {
          "output_type": "execute_result",
          "data": {
            "text/plain": [
              "LOCALIDADE\n",
              "-                      20 a 29\n",
              "Alagoas                   1,66\n",
              "Piauí                     1,63\n",
              "Pernambuco                1,46\n",
              "Paraíba                   1,34\n",
              "Maranhão                  1,32\n",
              "Rio Grande do Norte       1,31\n",
              "Sergipe                   1,31\n",
              "Ceará                     1,23\n",
              "Bahia                     1,01\n",
              "Name: TAXA5, dtype: object"
            ]
          },
          "metadata": {},
          "execution_count": 12
        }
      ]
    },
    {
      "cell_type": "code",
      "source": [
        "#Gráfico da TAXA5 dividido por estados.\n",
        "sns.scatterplot(data=dados, x= 'TAXA5', y = 'LOCALIDADE')"
      ],
      "metadata": {
        "colab": {
          "base_uri": "https://localhost:8080/",
          "height": 302
        },
        "id": "dD4DF4PhyLLp",
        "outputId": "b7dc313f-cbed-4ad3-c720-5d4bd12ff854"
      },
      "execution_count": null,
      "outputs": [
        {
          "output_type": "execute_result",
          "data": {
            "text/plain": [
              "<matplotlib.axes._subplots.AxesSubplot at 0x7f2203499410>"
            ]
          },
          "metadata": {},
          "execution_count": 66
        },
        {
          "output_type": "display_data",
          "data": {
            "text/plain": [
              "<Figure size 432x288 with 1 Axes>"
            ],
            "image/png": "[encoded data removed]"
          },
          "metadata": {}
        }
      ]
    },
    {
      "cell_type": "markdown",
      "source": [
        "#### Números de casos de câncers entre pessoas de 30 a 39 anos divididos por estado"
      ],
      "metadata": {
        "id": "G-gdJZpMgRzU"
      }
    },
    {
      "cell_type": "code",
      "source": [
        "dados.groupby(['LOCALIDADE']).TAXA6.max().sort_values(ascending=False)[:12]"
      ],
      "metadata": {
        "colab": {
          "base_uri": "https://localhost:8080/"
        },
        "id": "SY5Bk8AjgSRE",
        "outputId": "3bef6b20-7f48-4315-bfe3-dd689e0dc900"
      },
      "execution_count": null,
      "outputs": [
        {
          "output_type": "execute_result",
          "data": {
            "text/plain": [
              "LOCALIDADE\n",
              "Sergipe                   9,75\n",
              "Piauí                     8,51\n",
              "Maranhão                  8,25\n",
              "Pernambuco                7,85\n",
              "Ceará                     7,45\n",
              "Rio Grande do Norte       6,74\n",
              "Alagoas                    6,6\n",
              "Paraíba                   6,55\n",
              "Bahia                     6,34\n",
              "-                      30 a 39\n",
              "Name: TAXA6, dtype: object"
            ]
          },
          "metadata": {},
          "execution_count": 16
        }
      ]
    },
    {
      "cell_type": "code",
      "source": [
        "#Gráfico da TAXA6 dividido por estados.\n",
        "sns.scatterplot(data=dados, x= 'TAXA6', y = 'LOCALIDADE')"
      ],
      "metadata": {
        "colab": {
          "base_uri": "https://localhost:8080/",
          "height": 302
        },
        "id": "nu7bDOhqyasM",
        "outputId": "c647aeff-2ad1-4826-b6aa-e6cf8c53695f"
      },
      "execution_count": null,
      "outputs": [
        {
          "output_type": "execute_result",
          "data": {
            "text/plain": [
              "<matplotlib.axes._subplots.AxesSubplot at 0x7f22036db150>"
            ]
          },
          "metadata": {},
          "execution_count": 60
        },
        {
          "output_type": "display_data",
          "data": {
            "text/plain": [
              "<Figure size 432x288 with 1 Axes>"
            ],
            "image/png": "[encoded data removed]"
          },
          "metadata": {}
        }
      ]
    },
    {
      "cell_type": "markdown",
      "source": [
        "#### Números de casos de câncers entre pessoas de 40 a 49 anos divididos por estado"
      ],
      "metadata": {
        "id": "e7PHzEWYhUS3"
      }
    },
    {
      "cell_type": "code",
      "source": [
        "dados.groupby(['LOCALIDADE']).TAXA7.max().sort_values(ascending=False)[:12]"
      ],
      "metadata": {
        "colab": {
          "base_uri": "https://localhost:8080/"
        },
        "id": "e0ZB3cyfhUqs",
        "outputId": "0c23d21c-3c9d-446c-f49a-569d22013060"
      },
      "execution_count": null,
      "outputs": [
        {
          "output_type": "execute_result",
          "data": {
            "text/plain": [
              "LOCALIDADE\n",
              "-                      40 a 49\n",
              "Pernambuco               23,68\n",
              "Sergipe                  23,09\n",
              "Ceará                    22,49\n",
              "Maranhão                 22,15\n",
              "Alagoas                  22,11\n",
              "Piauí                    21,71\n",
              "Rio Grande do Norte      20,92\n",
              "Paraíba                  20,58\n",
              "Bahia                    19,85\n",
              "Name: TAXA7, dtype: object"
            ]
          },
          "metadata": {},
          "execution_count": 17
        }
      ]
    },
    {
      "cell_type": "code",
      "source": [
        "#Gráfico da TAXA7 dividido por estados.\n",
        "sns.scatterplot(data=dados, x= 'TAXA7', y = 'LOCALIDADE')"
      ],
      "metadata": {
        "colab": {
          "base_uri": "https://localhost:8080/",
          "height": 302
        },
        "id": "GGx5sxRxyw6J",
        "outputId": "8a4be34f-3ad5-48b5-997d-926dcb01061b"
      },
      "execution_count": null,
      "outputs": [
        {
          "output_type": "execute_result",
          "data": {
            "text/plain": [
              "<matplotlib.axes._subplots.AxesSubplot at 0x7f22036504d0>"
            ]
          },
          "metadata": {},
          "execution_count": 61
        },
        {
          "output_type": "display_data",
          "data": {
            "text/plain": [
              "<Figure size 432x288 with 1 Axes>"
            ],
            "image/png": "[encoded data removed]"
          },
          "metadata": {}
        }
      ]
    },
    {
      "cell_type": "markdown",
      "source": [
        "#### Números de casos de câncers entre pessoas de 50 a 59 anos divididos por estado"
      ],
      "metadata": {
        "id": "FZ83v5ODip2L"
      }
    },
    {
      "cell_type": "code",
      "source": [
        "dados.groupby(['LOCALIDADE']).TAXA8.max().sort_values(ascending=False)[:10]"
      ],
      "metadata": {
        "colab": {
          "base_uri": "https://localhost:8080/"
        },
        "id": "ygjtchLziqT1",
        "outputId": "982a9095-4ef0-41dd-a3f7-3cbe10814037"
      },
      "execution_count": null,
      "outputs": [
        {
          "output_type": "execute_result",
          "data": {
            "text/plain": [
              "LOCALIDADE\n",
              "Sergipe                  63,72\n",
              "Ceará                    62,02\n",
              "Pernambuco               60,59\n",
              "Rio Grande do Norte      59,53\n",
              "Alagoas                  51,52\n",
              "Piauí                    51,17\n",
              "Paraíba                  50,01\n",
              "-                      50 a 59\n",
              "Maranhão                 49,59\n",
              "Bahia                    47,91\n",
              "Name: TAXA8, dtype: object"
            ]
          },
          "metadata": {},
          "execution_count": 19
        }
      ]
    },
    {
      "cell_type": "code",
      "source": [
        "#Gráfico da TAXA8 dividido por estados.\n",
        "sns.scatterplot(data=dados, x= 'TAXA8', y = 'LOCALIDADE')"
      ],
      "metadata": {
        "colab": {
          "base_uri": "https://localhost:8080/",
          "height": 302
        },
        "id": "-AYzKRLyy0yL",
        "outputId": "703c07b0-612a-4871-ec1b-5e5a107266c9"
      },
      "execution_count": null,
      "outputs": [
        {
          "output_type": "execute_result",
          "data": {
            "text/plain": [
              "<matplotlib.axes._subplots.AxesSubplot at 0x7f22035ca910>"
            ]
          },
          "metadata": {},
          "execution_count": 62
        },
        {
          "output_type": "display_data",
          "data": {
            "text/plain": [
              "<Figure size 432x288 with 1 Axes>"
            ],
            "image/png": "[encoded data removed]"
          },
          "metadata": {}
        }
      ]
    },
    {
      "cell_type": "markdown",
      "source": [
        "#### Números de casos de câncers entre pessoas de 60 a 69 anos divididos por estado"
      ],
      "metadata": {
        "id": "ygNMc2-9i3wT"
      }
    },
    {
      "cell_type": "code",
      "source": [
        "dados.groupby(['LOCALIDADE']).TAXA9.max().sort_values(ascending=False)[:10]"
      ],
      "metadata": {
        "colab": {
          "base_uri": "https://localhost:8080/"
        },
        "id": "YIP05sZgi5Hc",
        "outputId": "88ad2519-cb47-43a8-dafe-31747098eb0f"
      },
      "execution_count": null,
      "outputs": [
        {
          "output_type": "execute_result",
          "data": {
            "text/plain": [
              "LOCALIDADE\n",
              "-                      60 a 69\n",
              "Ceará                   141,77\n",
              "Pernambuco              135,55\n",
              "Rio Grande do Norte     132,87\n",
              "Piauí                   130,12\n",
              "Sergipe                 129,02\n",
              "Paraíba                 118,84\n",
              "Bahia                   111,81\n",
              "Maranhão                 111,7\n",
              "Alagoas                 106,71\n",
              "Name: TAXA9, dtype: object"
            ]
          },
          "metadata": {},
          "execution_count": 20
        }
      ]
    },
    {
      "cell_type": "code",
      "source": [
        "#Gráfico da TAXA9 dividido por estados.\n",
        "sns.scatterplot(data=dados, x= 'TAXA9', y = 'LOCALIDADE')"
      ],
      "metadata": {
        "colab": {
          "base_uri": "https://localhost:8080/",
          "height": 302
        },
        "id": "bgeHx7oAy4C5",
        "outputId": "281b1db0-2d27-457d-b1cc-e80b7bcfd3a2"
      },
      "execution_count": null,
      "outputs": [
        {
          "output_type": "execute_result",
          "data": {
            "text/plain": [
              "<matplotlib.axes._subplots.AxesSubplot at 0x7f220365f7d0>"
            ]
          },
          "metadata": {},
          "execution_count": 63
        },
        {
          "output_type": "display_data",
          "data": {
            "text/plain": [
              "<Figure size 432x288 with 1 Axes>"
            ],
            "image/png": "[encoded data removed]"
          },
          "metadata": {}
        }
      ]
    },
    {
      "cell_type": "markdown",
      "source": [
        "#### Números de casos de câncers entre pessoas de 70 a 79 anos divididos por estado"
      ],
      "metadata": {
        "id": "tUjukxS0jDI0"
      }
    },
    {
      "cell_type": "code",
      "source": [
        "dados.groupby(['LOCALIDADE']).TAXA10.max().sort_values(ascending=False)[:10]"
      ],
      "metadata": {
        "colab": {
          "base_uri": "https://localhost:8080/"
        },
        "id": "7LjQ_E9ujDr8",
        "outputId": "d2a3003a-395a-45b1-e4d0-8fdd2693f04a"
      },
      "execution_count": null,
      "outputs": [
        {
          "output_type": "execute_result",
          "data": {
            "text/plain": [
              "LOCALIDADE\n",
              "-                      70 a 79\n",
              "Ceará                   295,95\n",
              "Pernambuco              277,03\n",
              "Rio Grande do Norte      276,6\n",
              "Sergipe                 270,36\n",
              "Piauí                   268,96\n",
              "Paraíba                 238,67\n",
              "Maranhão                235,01\n",
              "Bahia                   219,58\n",
              "Alagoas                 214,23\n",
              "Name: TAXA10, dtype: object"
            ]
          },
          "metadata": {},
          "execution_count": 22
        }
      ]
    },
    {
      "cell_type": "code",
      "source": [
        "#Gráfico da TAXA10 dividido por estados.\n",
        "sns.scatterplot(data=dados, x= 'TAXA10', y = 'LOCALIDADE')"
      ],
      "metadata": {
        "colab": {
          "base_uri": "https://localhost:8080/",
          "height": 302
        },
        "id": "t5IKAU9Yy7vq",
        "outputId": "30e886c6-6026-4143-f9d6-9945facaf758"
      },
      "execution_count": null,
      "outputs": [
        {
          "output_type": "execute_result",
          "data": {
            "text/plain": [
              "<matplotlib.axes._subplots.AxesSubplot at 0x7f2203538210>"
            ]
          },
          "metadata": {},
          "execution_count": 64
        },
        {
          "output_type": "display_data",
          "data": {
            "text/plain": [
              "<Figure size 432x288 with 1 Axes>"
            ],
            "image/png": "[encoded data removed]"
          },
          "metadata": {}
        }
      ]
    },
    {
      "cell_type": "markdown",
      "source": [
        "#### Números de casos de câncers entre pessoas de 80 ou mais anos divididos por estado"
      ],
      "metadata": {
        "id": "kX-OO5I0j4QK"
      }
    },
    {
      "cell_type": "code",
      "source": [
        "dados.groupby(['LOCALIDADE']).TAXA11.max().sort_values(ascending=False)[:10]"
      ],
      "metadata": {
        "colab": {
          "base_uri": "https://localhost:8080/"
        },
        "id": "Dcc91JYOj41a",
        "outputId": "a97af92d-e0b5-498f-c49e-d938efdcbee0"
      },
      "execution_count": null,
      "outputs": [
        {
          "output_type": "execute_result",
          "data": {
            "text/plain": [
              "LOCALIDADE\n",
              "-                      80 ou mais\n",
              "Piauí                       613,7\n",
              "Ceará                      605,43\n",
              "Pernambuco                 588,48\n",
              "Sergipe                    586,55\n",
              "Rio Grande do Norte        566,34\n",
              "Paraíba                    532,27\n",
              "Bahia                      476,45\n",
              "Alagoas                    427,25\n",
              "Maranhão                   422,85\n",
              "Name: TAXA11, dtype: object"
            ]
          },
          "metadata": {},
          "execution_count": 23
        }
      ]
    },
    {
      "cell_type": "code",
      "source": [
        "#Gráfico da TAXA11 dividido por estados.\n",
        "sns.scatterplot(data=dados, x= 'TAXA11', y = 'LOCALIDADE')"
      ],
      "metadata": {
        "colab": {
          "base_uri": "https://localhost:8080/",
          "height": 302
        },
        "id": "st-TgXJWy-Bz",
        "outputId": "e2d5c47a-4c4b-43ad-9d20-8a157256ae05"
      },
      "execution_count": null,
      "outputs": [
        {
          "output_type": "execute_result",
          "data": {
            "text/plain": [
              "<matplotlib.axes._subplots.AxesSubplot at 0x7f22034a3d50>"
            ]
          },
          "metadata": {},
          "execution_count": 65
        },
        {
          "output_type": "display_data",
          "data": {
            "text/plain": [
              "<Figure size 432x288 with 1 Axes>"
            ],
            "image/png": "[encoded data removed]"
          },
          "metadata": {}
        }
      ]
    },
    {
      "cell_type": "code",
      "source": [
        "#Consultando todos os dados pelo Estado\n",
        "dados[dados['LOCALIDADE']  == 'Paraíba']"
      ],
      "metadata": {
        "colab": {
          "base_uri": "https://localhost:8080/",
          "height": 162
        },
        "id": "2GmEtQiUsUym",
        "outputId": "f23b45a7-647d-43fb-ee3c-5ee85552f6c8"
      },
      "execution_count": null,
      "outputs": [
        {
          "output_type": "execute_result",
          "data": {
            "text/plain": [
              "  LOCALIDADE TAXA1 TAXA2 TAXA3 TAXA4 TAXA5 TAXA6  TAXA7  TAXA8   TAXA9  \\\n",
              "5    Paraíba  0,06     0     0  0,43  1,34  6,55  20,58  50,01  118,84   \n",
              "\n",
              "   TAXA10  TAXA11 Idade ignorada TAXA BRUTA Classificação Pop. Mundial(1)  \\\n",
              "5  238,67  532,27              0      33,41             2           28,82   \n",
              "\n",
              "  Pop. Brasil(2)  \n",
              "5          31,96  "
            ],
            "text/html": [
              "\n",
              "  <div id=\"df-50a7a0d9-f308-47bf-884b-b48cd7e6324b\">\n",
              "    <div class=\"colab-df-container\">\n",
              "      <div>\n",
              "<style scoped>\n",
              "    .dataframe tbody tr th:only-of-type {\n",
              "        vertical-align: middle;\n",
              "    }\n",
              "\n",
              "    .dataframe tbody tr th {\n",
              "        vertical-align: top;\n",
              "    }\n",
              "\n",
              "    .dataframe thead th {\n",
              "        text-align: right;\n",
              "    }\n",
              "</style>\n",
              "<table border=\"1\" class=\"dataframe\">\n",
              "  <thead>\n",
              "    <tr style=\"text-align: right;\">\n",
              "      <th></th>\n",
              "      <th>LOCALIDADE</th>\n",
              "      <th>TAXA1</th>\n",
              "      <th>TAXA2</th>\n",
              "      <th>TAXA3</th>\n",
              "      <th>TAXA4</th>\n",
              "      <th>TAXA5</th>\n",
              "      <th>TAXA6</th>\n",
              "      <th>TAXA7</th>\n",
              "      <th>TAXA8</th>\n",
              "      <th>TAXA9</th>\n",
              "      <th>TAXA10</th>\n",
              "      <th>TAXA11</th>\n",
              "      <th>Idade ignorada</th>\n",
              "      <th>TAXA BRUTA</th>\n",
              "      <th>Classificação</th>\n",
              "      <th>Pop. Mundial(1)</th>\n",
              "      <th>Pop. Brasil(2)</th>\n",
              "    </tr>\n",
              "  </thead>\n",
              "  <tbody>\n",
              "    <tr>\n",
              "      <th>5</th>\n",
              "      <td>Paraíba</td>\n",
              "      <td>0,06</td>\n",
              "      <td>0</td>\n",
              "      <td>0</td>\n",
              "      <td>0,43</td>\n",
              "      <td>1,34</td>\n",
              "      <td>6,55</td>\n",
              "      <td>20,58</td>\n",
              "      <td>50,01</td>\n",
              "      <td>118,84</td>\n",
              "      <td>238,67</td>\n",
              "      <td>532,27</td>\n",
              "      <td>0</td>\n",
              "      <td>33,41</td>\n",
              "      <td>2</td>\n",
              "      <td>28,82</td>\n",
              "      <td>31,96</td>\n",
              "    </tr>\n",
              "  </tbody>\n",
              "</table>\n",
              "</div>\n",
              "      <button class=\"colab-df-convert\" onclick=\"convertToInteractive('df-50a7a0d9-f308-47bf-884b-b48cd7e6324b')\"\n",
              "              title=\"Convert this dataframe to an interactive table.\"\n",
              "              style=\"display:none;\">\n",
              "        \n",
              "  <svg xmlns=\"http://www.w3.org/2000/svg\" height=\"24px\"viewBox=\"0 0 24 24\"\n",
              "       width=\"24px\">\n",
              "    <path d=\"M0 0h24v24H0V0z\" fill=\"none\"/>\n",
              "    <path d=\"M18.56 5.44l.94 2.06.94-2.06 2.06-.94-2.06-.94-.94-2.06-.94 2.06-2.06.94zm-11 1L8.5 8.5l.94-2.06 2.06-.94-2.06-.94L8.5 2.5l-.94 2.06-2.06.94zm10 10l.94 2.06.94-2.06 2.06-.94-2.06-.94-.94-2.06-.94 2.06-2.06.94z\"/><path d=\"M17.41 7.96l-1.37-1.37c-.4-.4-.92-.59-1.43-.59-.52 0-1.04.2-1.43.59L10.3 9.45l-7.72 7.72c-.78.78-.78 2.05 0 2.83L4 21.41c.39.39.9.59 1.41.59.51 0 1.02-.2 1.41-.59l7.78-7.78 2.81-2.81c.8-.78.8-2.07 0-2.86zM5.41 20L4 18.59l7.72-7.72 1.47 1.35L5.41 20z\"/>\n",
              "  </svg>\n",
              "      </button>\n",
              "      \n",
              "  <style>\n",
              "    .colab-df-container {\n",
              "      display:flex;\n",
              "      flex-wrap:wrap;\n",
              "      gap: 12px;\n",
              "    }\n",
              "\n",
              "    .colab-df-convert {\n",
              "      background-color: #E8F0FE;\n",
              "      border: none;\n",
              "      border-radius: 50%;\n",
              "      cursor: pointer;\n",
              "      display: none;\n",
              "      fill: #1967D2;\n",
              "      height: 32px;\n",
              "      padding: 0 0 0 0;\n",
              "      width: 32px;\n",
              "    }\n",
              "\n",
              "    .colab-df-convert:hover {\n",
              "      background-color: #E2EBFA;\n",
              "      box-shadow: 0px 1px 2px rgba(60, 64, 67, 0.3), 0px 1px 3px 1px rgba(60, 64, 67, 0.15);\n",
              "      fill: #174EA6;\n",
              "    }\n",
              "\n",
              "    [theme=dark] .colab-df-convert {\n",
              "      background-color: #3B4455;\n",
              "      fill: #D2E3FC;\n",
              "    }\n",
              "\n",
              "    [theme=dark] .colab-df-convert:hover {\n",
              "      background-color: #434B5C;\n",
              "      box-shadow: 0px 1px 3px 1px rgba(0, 0, 0, 0.15);\n",
              "      filter: drop-shadow(0px 1px 2px rgba(0, 0, 0, 0.3));\n",
              "      fill: #FFFFFF;\n",
              "    }\n",
              "  </style>\n",
              "\n",
              "      <script>\n",
              "        const buttonEl =\n",
              "          document.querySelector('#df-50a7a0d9-f308-47bf-884b-b48cd7e6324b button.colab-df-convert');\n",
              "        buttonEl.style.display =\n",
              "          google.colab.kernel.accessAllowed ? 'block' : 'none';\n",
              "\n",
              "        async function convertToInteractive(key) {\n",
              "          const element = document.querySelector('#df-50a7a0d9-f308-47bf-884b-b48cd7e6324b');\n",
              "          const dataTable =\n",
              "            await google.colab.kernel.invokeFunction('convertToInteractive',\n",
              "                                                     [key], {});\n",
              "          if (!dataTable) return;\n",
              "\n",
              "          const docLinkHtml = 'Like what you see? Visit the ' +\n",
              "            '<a target=\"_blank\" href=https://colab.research.google.com/notebooks/data_table.ipynb>data table notebook</a>'\n",
              "            + ' to learn more about interactive tables.';\n",
              "          element.innerHTML = '';\n",
              "          dataTable['output_type'] = 'display_data';\n",
              "          await google.colab.output.renderOutput(dataTable, element);\n",
              "          const docLink = document.createElement('div');\n",
              "          docLink.innerHTML = docLinkHtml;\n",
              "          element.appendChild(docLink);\n",
              "        }\n",
              "      </script>\n",
              "    </div>\n",
              "  </div>\n",
              "  "
            ]
          },
          "metadata": {},
          "execution_count": 37
        }
      ]
    },
    {
      "cell_type": "code",
      "source": [
        "# Gráfico da taxa bruta de acordo com o estado\n",
        "sns.scatterplot(data=dados, x= 'LOCALIDADE', y = 'TAXA BRUTA')"
      ],
      "metadata": {
        "colab": {
          "base_uri": "https://localhost:8080/",
          "height": 302
        },
        "id": "5Vr9Yx1qmA1y",
        "outputId": "b5c8a10b-ba5e-411f-f394-9eae79f5edd4"
      },
      "execution_count": null,
      "outputs": [
        {
          "output_type": "execute_result",
          "data": {
            "text/plain": [
              "<matplotlib.axes._subplots.AxesSubplot at 0x7f220415dfd0>"
            ]
          },
          "metadata": {},
          "execution_count": 27
        },
        {
          "output_type": "display_data",
          "data": {
            "text/plain": [
              "<Figure size 432x288 with 1 Axes>"
            ],
            "image/png": "[encoded data removed]"
          },
          "metadata": {
            "needs_background": "light"
          }
        }
      ]
    },
    {
      "cell_type": "code",
      "source": [
        ""
      ],
      "metadata": {
        "id": "40rIXTPc0Zrg"
      },
      "execution_count": null,
      "outputs": []
    }
  ]
}