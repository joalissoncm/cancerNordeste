{
  "nbformat": 4,
  "nbformat_minor": 0,
  "metadata": {
    "colab": {
      "name": "analise_estatistica_cancerPB.ipynb",
      "provenance": [],
      "mount_file_id": "1zD4Fq07WhuKPBNSavgRUdyVcNYwayMSq",
      "authorship_tag": "ABX9TyPwaJw/q0o9S6mcGECo8FGJ",
      "include_colab_link": true
    },
    "kernelspec": {
      "name": "python3",
      "display_name": "Python 3"
    },
    "language_info": {
      "name": "python"
    }
  },
  "cells": [
    {
      "cell_type": "markdown",
      "metadata": {
        "id": "view-in-github",
        "colab_type": "text"
      },
      "source": [
        "<a href=\"https://colab.research.google.com/github/joalissoncm/cancerparaiba/blob/main/analise_estatistica_cancerPB.ipynb\" target=\"_parent\"><img src=\"https://colab.research.google.com/assets/colab-badge.svg\" alt=\"Open In Colab\"/></a>"
      ]
    },
    {
      "cell_type": "code",
      "metadata": {
        "id": "HvfCBOWwBOt9"
      },
      "source": [
        "#Importando as bibliotecas necessárias.\n",
        "import pandas as pd\n",
        "import numpy as np\n",
        "import seaborn as sns\n",
        "import matplotlib.pyplot as plt\n",
        "\n",
        "sns.set()"
      ],
      "execution_count": null,
      "outputs": []
    },
    {
      "cell_type": "markdown",
      "source": [
        "Taxas de mortalidade pelas topografias selecionadas*, brutas e ajustadas por idade, pelas populações mundial e brasileira de 2010, por 100.000 homens e mulheres, na região Nordeste, entre 2015 e 2019."
      ],
      "metadata": {
        "id": "KQvOWQeQR2f3"
      }
    },
    {
      "cell_type": "code",
      "metadata": {
        "id": "sUMIwR9GBP0I"
      },
      "source": [
        "#Importando os dados que tirei do Instituto Nacional de Câncer(INCA).\n",
        "dados = pd.read_csv(\"https://raw.githubusercontent.com/joalissoncm/cancerparaiba/main/dataset/1cancer_stats%20-%20Modelo05_20220311082945%20(1).csv\")"
      ],
      "execution_count": null,
      "outputs": []
    },
    {
      "cell_type": "code",
      "source": [
        "#Conferindo se os dados não tem dados nulos.\n",
        "dados.dtypes"
      ],
      "metadata": {
        "colab": {
          "base_uri": "https://localhost:8080/"
        },
        "id": "yGlOyjitQ6Xu",
        "outputId": "18366824-6625-4691-e016-ff925c3f3329"
      },
      "execution_count": null,
      "outputs": [
        {
          "output_type": "execute_result",
          "data": {
            "text/plain": [
              "LOCALIDADE         object\n",
              "TAXA1              object\n",
              "TAXA2              object\n",
              "TAXA3              object\n",
              "TAXA4              object\n",
              "TAXA5              object\n",
              "TAXA6              object\n",
              "TAXA7              object\n",
              "TAXA8              object\n",
              "TAXA9              object\n",
              "TAXA10             object\n",
              "TAXA11             object\n",
              "Idade ignorada     object\n",
              "TAXA BRUTA         object\n",
              "Classificação      object\n",
              "Pop. Mundial(1)    object\n",
              "Pop. Brasil(2)     object\n",
              "dtype: object"
            ]
          },
          "metadata": {},
          "execution_count": 8
        }
      ]
    },
    {
      "cell_type": "code",
      "source": [
        "#Conferindo as dimensões do data frame.\n",
        "print(\"DIMENSÕES DO DATAFRAME:\")\n",
        "print(\"Linhas:\\t\\t{}\".format(dados.shape[0]))\n",
        "print(\"Colunas:\\t{}\".format(dados.shape[1]))"
      ],
      "metadata": {
        "id": "VqaeYSoXnTsd",
        "colab": {
          "base_uri": "https://localhost:8080/"
        },
        "outputId": "f6e6877f-ce16-4129-e00a-142fe1b85f2e"
      },
      "execution_count": null,
      "outputs": [
        {
          "output_type": "stream",
          "name": "stdout",
          "text": [
            "DIMENSÕES DO DATAFRAME:\n",
            "Linhas:\t\t10\n",
            "Colunas:\t17\n"
          ]
        }
      ]
    },
    {
      "cell_type": "code",
      "source": [
        "#Verificando se não tem valores duplicados\n",
        "print(\"Duplicated values: \", dados.duplicated().sum())"
      ],
      "metadata": {
        "colab": {
          "base_uri": "https://localhost:8080/"
        },
        "id": "cT2TDaOXsefP",
        "outputId": "2f692946-154f-4556-f284-d1efa12e4b8c"
      },
      "execution_count": null,
      "outputs": [
        {
          "output_type": "stream",
          "name": "stdout",
          "text": [
            "Duplicated values:  0\n"
          ]
        }
      ]
    },
    {
      "cell_type": "code",
      "source": [
        "dados.isnull().sum()"
      ],
      "metadata": {
        "colab": {
          "base_uri": "https://localhost:8080/"
        },
        "id": "MZF0dWtk8eDg",
        "outputId": "ffef943a-0266-4ce0-c7ae-0e22d183709e"
      },
      "execution_count": null,
      "outputs": [
        {
          "output_type": "execute_result",
          "data": {
            "text/plain": [
              "LOCALIDADE         0\n",
              "TAXA1              0\n",
              "TAXA2              0\n",
              "TAXA3              0\n",
              "TAXA4              0\n",
              "TAXA5              0\n",
              "TAXA6              0\n",
              "TAXA7              0\n",
              "TAXA8              0\n",
              "TAXA9              0\n",
              "TAXA10             0\n",
              "TAXA11             0\n",
              "Idade ignorada     0\n",
              "TAXA BRUTA         0\n",
              "Classificação      0\n",
              "Pop. Mundial(1)    0\n",
              "Pop. Brasil(2)     0\n",
              "dtype: int64"
            ]
          },
          "metadata": {},
          "execution_count": 11
        }
      ]
    },
    {
      "cell_type": "code",
      "source": [
        "#Finalmente observando as informações\n",
        "dados.head(10)"
      ],
      "metadata": {
        "colab": {
          "base_uri": "https://localhost:8080/",
          "height": 407
        },
        "id": "dh013wQacNDv",
        "outputId": "b93fbf20-845e-4205-c143-1bcec436c455"
      },
      "execution_count": null,
      "outputs": [
        {
          "output_type": "execute_result",
          "data": {
            "text/plain": [
              "   LOCALIDADE    TAXA1    TAXA2    TAXA3    TAXA4    TAXA5    TAXA6    TAXA7  \\\n",
              "0  LOCALIDADE  00 a 04  05 a 09  10 a 14  15 a 19  20 a 29  30 a 39  40 a 49   \n",
              "1          AL        0        0     0,06     0,25     1,66      6,6    22,11   \n",
              "2          BA     0,03     0,02     0,06      0,2     1,01     6,34    19,85   \n",
              "3          CE     0,03        0     0,05     0,17     1,23     7,45    22,49   \n",
              "4          MA     0,03     0,03     0,19     0,18     1,32     8,25    22,15   \n",
              "5          PB     0,06        0        0     0,43     1,34     6,55    20,58   \n",
              "6          PE        0     0,03     0,02     0,25     1,46     7,85    23,68   \n",
              "7          PI        0        0        0     0,28     1,63     8,51    21,71   \n",
              "8          RN     0,15        0        0     0,34     1,31     6,74    20,92   \n",
              "9          SE        0        0        0     0,19     1,31     9,75    23,09   \n",
              "\n",
              "     TAXA8    TAXA9   TAXA10      TAXA11  Idade ignorada  TAXA BRUTA  \\\n",
              "0  50 a 59  60 a 69  70 a 79  80 ou mais  Idade ignorada  Taxa Bruta   \n",
              "1    51,52   106,71   214,23      427,25               0       24,68   \n",
              "2    47,91   111,81   219,58      476,45               0       29,24   \n",
              "3    62,02   141,77   295,95      605,43               0       36,99   \n",
              "4    49,59    111,7   235,01      422,85               0       23,57   \n",
              "5    50,01   118,84   238,67      532,27               0       33,41   \n",
              "6    60,59   135,55   277,03      588,48               0       35,78   \n",
              "7    51,17   130,12   268,96       613,7               0       32,79   \n",
              "8    59,53   132,87    276,6      566,34               0       35,78   \n",
              "9    63,72   129,02   270,36      586,55               0        31,1   \n",
              "\n",
              "   Classificação  Pop. Mundial(1)  Pop. Brasil(2)  \n",
              "0  Classificação  Pop. Mundial(1)  Pop. Brasil(2)  \n",
              "1              8            26,54           29,21  \n",
              "2              7            26,82           29,65  \n",
              "3              1            34,25           37,85  \n",
              "4              4            27,46           30,15  \n",
              "5              2            28,82           31,96  \n",
              "6              5            33,18           36,72  \n",
              "7              3            31,83           35,48  \n",
              "8              6            32,17           35,53  \n",
              "9              0            32,91           36,57  "
            ],
            "text/html": [
              "\n",
              "  <div id=\"df-514dc750-d938-438b-9e49-92a11b421624\">\n",
              "    <div class=\"colab-df-container\">\n",
              "      <div>\n",
              "<style scoped>\n",
              "    .dataframe tbody tr th:only-of-type {\n",
              "        vertical-align: middle;\n",
              "    }\n",
              "\n",
              "    .dataframe tbody tr th {\n",
              "        vertical-align: top;\n",
              "    }\n",
              "\n",
              "    .dataframe thead th {\n",
              "        text-align: right;\n",
              "    }\n",
              "</style>\n",
              "<table border=\"1\" class=\"dataframe\">\n",
              "  <thead>\n",
              "    <tr style=\"text-align: right;\">\n",
              "      <th></th>\n",
              "      <th>LOCALIDADE</th>\n",
              "      <th>TAXA1</th>\n",
              "      <th>TAXA2</th>\n",
              "      <th>TAXA3</th>\n",
              "      <th>TAXA4</th>\n",
              "      <th>TAXA5</th>\n",
              "      <th>TAXA6</th>\n",
              "      <th>TAXA7</th>\n",
              "      <th>TAXA8</th>\n",
              "      <th>TAXA9</th>\n",
              "      <th>TAXA10</th>\n",
              "      <th>TAXA11</th>\n",
              "      <th>Idade ignorada</th>\n",
              "      <th>TAXA BRUTA</th>\n",
              "      <th>Classificação</th>\n",
              "      <th>Pop. Mundial(1)</th>\n",
              "      <th>Pop. Brasil(2)</th>\n",
              "    </tr>\n",
              "  </thead>\n",
              "  <tbody>\n",
              "    <tr>\n",
              "      <th>0</th>\n",
              "      <td>LOCALIDADE</td>\n",
              "      <td>00 a 04</td>\n",
              "      <td>05 a 09</td>\n",
              "      <td>10 a 14</td>\n",
              "      <td>15 a 19</td>\n",
              "      <td>20 a 29</td>\n",
              "      <td>30 a 39</td>\n",
              "      <td>40 a 49</td>\n",
              "      <td>50 a 59</td>\n",
              "      <td>60 a 69</td>\n",
              "      <td>70 a 79</td>\n",
              "      <td>80 ou mais</td>\n",
              "      <td>Idade ignorada</td>\n",
              "      <td>Taxa Bruta</td>\n",
              "      <td>Classificação</td>\n",
              "      <td>Pop. Mundial(1)</td>\n",
              "      <td>Pop. Brasil(2)</td>\n",
              "    </tr>\n",
              "    <tr>\n",
              "      <th>1</th>\n",
              "      <td>AL</td>\n",
              "      <td>0</td>\n",
              "      <td>0</td>\n",
              "      <td>0,06</td>\n",
              "      <td>0,25</td>\n",
              "      <td>1,66</td>\n",
              "      <td>6,6</td>\n",
              "      <td>22,11</td>\n",
              "      <td>51,52</td>\n",
              "      <td>106,71</td>\n",
              "      <td>214,23</td>\n",
              "      <td>427,25</td>\n",
              "      <td>0</td>\n",
              "      <td>24,68</td>\n",
              "      <td>8</td>\n",
              "      <td>26,54</td>\n",
              "      <td>29,21</td>\n",
              "    </tr>\n",
              "    <tr>\n",
              "      <th>2</th>\n",
              "      <td>BA</td>\n",
              "      <td>0,03</td>\n",
              "      <td>0,02</td>\n",
              "      <td>0,06</td>\n",
              "      <td>0,2</td>\n",
              "      <td>1,01</td>\n",
              "      <td>6,34</td>\n",
              "      <td>19,85</td>\n",
              "      <td>47,91</td>\n",
              "      <td>111,81</td>\n",
              "      <td>219,58</td>\n",
              "      <td>476,45</td>\n",
              "      <td>0</td>\n",
              "      <td>29,24</td>\n",
              "      <td>7</td>\n",
              "      <td>26,82</td>\n",
              "      <td>29,65</td>\n",
              "    </tr>\n",
              "    <tr>\n",
              "      <th>3</th>\n",
              "      <td>CE</td>\n",
              "      <td>0,03</td>\n",
              "      <td>0</td>\n",
              "      <td>0,05</td>\n",
              "      <td>0,17</td>\n",
              "      <td>1,23</td>\n",
              "      <td>7,45</td>\n",
              "      <td>22,49</td>\n",
              "      <td>62,02</td>\n",
              "      <td>141,77</td>\n",
              "      <td>295,95</td>\n",
              "      <td>605,43</td>\n",
              "      <td>0</td>\n",
              "      <td>36,99</td>\n",
              "      <td>1</td>\n",
              "      <td>34,25</td>\n",
              "      <td>37,85</td>\n",
              "    </tr>\n",
              "    <tr>\n",
              "      <th>4</th>\n",
              "      <td>MA</td>\n",
              "      <td>0,03</td>\n",
              "      <td>0,03</td>\n",
              "      <td>0,19</td>\n",
              "      <td>0,18</td>\n",
              "      <td>1,32</td>\n",
              "      <td>8,25</td>\n",
              "      <td>22,15</td>\n",
              "      <td>49,59</td>\n",
              "      <td>111,7</td>\n",
              "      <td>235,01</td>\n",
              "      <td>422,85</td>\n",
              "      <td>0</td>\n",
              "      <td>23,57</td>\n",
              "      <td>4</td>\n",
              "      <td>27,46</td>\n",
              "      <td>30,15</td>\n",
              "    </tr>\n",
              "    <tr>\n",
              "      <th>5</th>\n",
              "      <td>PB</td>\n",
              "      <td>0,06</td>\n",
              "      <td>0</td>\n",
              "      <td>0</td>\n",
              "      <td>0,43</td>\n",
              "      <td>1,34</td>\n",
              "      <td>6,55</td>\n",
              "      <td>20,58</td>\n",
              "      <td>50,01</td>\n",
              "      <td>118,84</td>\n",
              "      <td>238,67</td>\n",
              "      <td>532,27</td>\n",
              "      <td>0</td>\n",
              "      <td>33,41</td>\n",
              "      <td>2</td>\n",
              "      <td>28,82</td>\n",
              "      <td>31,96</td>\n",
              "    </tr>\n",
              "    <tr>\n",
              "      <th>6</th>\n",
              "      <td>PE</td>\n",
              "      <td>0</td>\n",
              "      <td>0,03</td>\n",
              "      <td>0,02</td>\n",
              "      <td>0,25</td>\n",
              "      <td>1,46</td>\n",
              "      <td>7,85</td>\n",
              "      <td>23,68</td>\n",
              "      <td>60,59</td>\n",
              "      <td>135,55</td>\n",
              "      <td>277,03</td>\n",
              "      <td>588,48</td>\n",
              "      <td>0</td>\n",
              "      <td>35,78</td>\n",
              "      <td>5</td>\n",
              "      <td>33,18</td>\n",
              "      <td>36,72</td>\n",
              "    </tr>\n",
              "    <tr>\n",
              "      <th>7</th>\n",
              "      <td>PI</td>\n",
              "      <td>0</td>\n",
              "      <td>0</td>\n",
              "      <td>0</td>\n",
              "      <td>0,28</td>\n",
              "      <td>1,63</td>\n",
              "      <td>8,51</td>\n",
              "      <td>21,71</td>\n",
              "      <td>51,17</td>\n",
              "      <td>130,12</td>\n",
              "      <td>268,96</td>\n",
              "      <td>613,7</td>\n",
              "      <td>0</td>\n",
              "      <td>32,79</td>\n",
              "      <td>3</td>\n",
              "      <td>31,83</td>\n",
              "      <td>35,48</td>\n",
              "    </tr>\n",
              "    <tr>\n",
              "      <th>8</th>\n",
              "      <td>RN</td>\n",
              "      <td>0,15</td>\n",
              "      <td>0</td>\n",
              "      <td>0</td>\n",
              "      <td>0,34</td>\n",
              "      <td>1,31</td>\n",
              "      <td>6,74</td>\n",
              "      <td>20,92</td>\n",
              "      <td>59,53</td>\n",
              "      <td>132,87</td>\n",
              "      <td>276,6</td>\n",
              "      <td>566,34</td>\n",
              "      <td>0</td>\n",
              "      <td>35,78</td>\n",
              "      <td>6</td>\n",
              "      <td>32,17</td>\n",
              "      <td>35,53</td>\n",
              "    </tr>\n",
              "    <tr>\n",
              "      <th>9</th>\n",
              "      <td>SE</td>\n",
              "      <td>0</td>\n",
              "      <td>0</td>\n",
              "      <td>0</td>\n",
              "      <td>0,19</td>\n",
              "      <td>1,31</td>\n",
              "      <td>9,75</td>\n",
              "      <td>23,09</td>\n",
              "      <td>63,72</td>\n",
              "      <td>129,02</td>\n",
              "      <td>270,36</td>\n",
              "      <td>586,55</td>\n",
              "      <td>0</td>\n",
              "      <td>31,1</td>\n",
              "      <td>0</td>\n",
              "      <td>32,91</td>\n",
              "      <td>36,57</td>\n",
              "    </tr>\n",
              "  </tbody>\n",
              "</table>\n",
              "</div>\n",
              "      <button class=\"colab-df-convert\" onclick=\"convertToInteractive('df-514dc750-d938-438b-9e49-92a11b421624')\"\n",
              "              title=\"Convert this dataframe to an interactive table.\"\n",
              "              style=\"display:none;\">\n",
              "        \n",
              "  <svg xmlns=\"http://www.w3.org/2000/svg\" height=\"24px\"viewBox=\"0 0 24 24\"\n",
              "       width=\"24px\">\n",
              "    <path d=\"M0 0h24v24H0V0z\" fill=\"none\"/>\n",
              "    <path d=\"M18.56 5.44l.94 2.06.94-2.06 2.06-.94-2.06-.94-.94-2.06-.94 2.06-2.06.94zm-11 1L8.5 8.5l.94-2.06 2.06-.94-2.06-.94L8.5 2.5l-.94 2.06-2.06.94zm10 10l.94 2.06.94-2.06 2.06-.94-2.06-.94-.94-2.06-.94 2.06-2.06.94z\"/><path d=\"M17.41 7.96l-1.37-1.37c-.4-.4-.92-.59-1.43-.59-.52 0-1.04.2-1.43.59L10.3 9.45l-7.72 7.72c-.78.78-.78 2.05 0 2.83L4 21.41c.39.39.9.59 1.41.59.51 0 1.02-.2 1.41-.59l7.78-7.78 2.81-2.81c.8-.78.8-2.07 0-2.86zM5.41 20L4 18.59l7.72-7.72 1.47 1.35L5.41 20z\"/>\n",
              "  </svg>\n",
              "      </button>\n",
              "      \n",
              "  <style>\n",
              "    .colab-df-container {\n",
              "      display:flex;\n",
              "      flex-wrap:wrap;\n",
              "      gap: 12px;\n",
              "    }\n",
              "\n",
              "    .colab-df-convert {\n",
              "      background-color: #E8F0FE;\n",
              "      border: none;\n",
              "      border-radius: 50%;\n",
              "      cursor: pointer;\n",
              "      display: none;\n",
              "      fill: #1967D2;\n",
              "      height: 32px;\n",
              "      padding: 0 0 0 0;\n",
              "      width: 32px;\n",
              "    }\n",
              "\n",
              "    .colab-df-convert:hover {\n",
              "      background-color: #E2EBFA;\n",
              "      box-shadow: 0px 1px 2px rgba(60, 64, 67, 0.3), 0px 1px 3px 1px rgba(60, 64, 67, 0.15);\n",
              "      fill: #174EA6;\n",
              "    }\n",
              "\n",
              "    [theme=dark] .colab-df-convert {\n",
              "      background-color: #3B4455;\n",
              "      fill: #D2E3FC;\n",
              "    }\n",
              "\n",
              "    [theme=dark] .colab-df-convert:hover {\n",
              "      background-color: #434B5C;\n",
              "      box-shadow: 0px 1px 3px 1px rgba(0, 0, 0, 0.15);\n",
              "      filter: drop-shadow(0px 1px 2px rgba(0, 0, 0, 0.3));\n",
              "      fill: #FFFFFF;\n",
              "    }\n",
              "  </style>\n",
              "\n",
              "      <script>\n",
              "        const buttonEl =\n",
              "          document.querySelector('#df-514dc750-d938-438b-9e49-92a11b421624 button.colab-df-convert');\n",
              "        buttonEl.style.display =\n",
              "          google.colab.kernel.accessAllowed ? 'block' : 'none';\n",
              "\n",
              "        async function convertToInteractive(key) {\n",
              "          const element = document.querySelector('#df-514dc750-d938-438b-9e49-92a11b421624');\n",
              "          const dataTable =\n",
              "            await google.colab.kernel.invokeFunction('convertToInteractive',\n",
              "                                                     [key], {});\n",
              "          if (!dataTable) return;\n",
              "\n",
              "          const docLinkHtml = 'Like what you see? Visit the ' +\n",
              "            '<a target=\"_blank\" href=https://colab.research.google.com/notebooks/data_table.ipynb>data table notebook</a>'\n",
              "            + ' to learn more about interactive tables.';\n",
              "          element.innerHTML = '';\n",
              "          dataTable['output_type'] = 'display_data';\n",
              "          await google.colab.output.renderOutput(dataTable, element);\n",
              "          const docLink = document.createElement('div');\n",
              "          docLink.innerHTML = docLinkHtml;\n",
              "          element.appendChild(docLink);\n",
              "        }\n",
              "      </script>\n",
              "    </div>\n",
              "  </div>\n",
              "  "
            ]
          },
          "metadata": {},
          "execution_count": 12
        }
      ]
    },
    {
      "cell_type": "markdown",
      "source": [
        "## **Explorando os dados**\n",
        "Partindo para a análise estatística e exploratória"
      ],
      "metadata": {
        "id": "f_Y3pYzcSUeW"
      }
    },
    {
      "cell_type": "markdown",
      "source": [
        "#### Números de casos de câncers entre pessoas de 0 a 4 anos divididos por estado"
      ],
      "metadata": {
        "id": "Kj13_T6keH3G"
      }
    },
    {
      "cell_type": "code",
      "source": [
        "dados.groupby(['LOCALIDADE']).TAXA1.max().sort_values(ascending=False)[:12]"
      ],
      "metadata": {
        "colab": {
          "base_uri": "https://localhost:8080/"
        },
        "id": "MZ-atUZycnN2",
        "outputId": "5e4bdc81-310d-4046-82e4-525efc367eba"
      },
      "execution_count": null,
      "outputs": [
        {
          "output_type": "execute_result",
          "data": {
            "text/plain": [
              "LOCALIDADE\n",
              "LOCALIDADE    00 a 04\n",
              "RN               0,15\n",
              "PB               0,06\n",
              "BA               0,03\n",
              "CE               0,03\n",
              "MA               0,03\n",
              "AL                  0\n",
              "PE                  0\n",
              "PI                  0\n",
              "SE                  0\n",
              "Name: TAXA1, dtype: object"
            ]
          },
          "metadata": {},
          "execution_count": 24
        }
      ]
    },
    {
      "cell_type": "markdown",
      "source": [
        "#### Números de casos de câncers entre pessoas de 5 a 9 anos divididos por estado"
      ],
      "metadata": {
        "id": "ELFq1VSsfLkW"
      }
    },
    {
      "cell_type": "code",
      "source": [
        "dados.groupby(['LOCALIDADE']).TAXA2.max().sort_values(ascending=False)[:12]"
      ],
      "metadata": {
        "colab": {
          "base_uri": "https://localhost:8080/"
        },
        "id": "sl0tintAfFXl",
        "outputId": "ea7bc49a-9a74-4486-ad0a-dc5e05d69ba9"
      },
      "execution_count": null,
      "outputs": [
        {
          "output_type": "execute_result",
          "data": {
            "text/plain": [
              "LOCALIDADE\n",
              "LOCALIDADE    05 a 09\n",
              "MA               0,03\n",
              "PE               0,03\n",
              "BA               0,02\n",
              "AL                  0\n",
              "CE                  0\n",
              "PB                  0\n",
              "PI                  0\n",
              "RN                  0\n",
              "SE                  0\n",
              "Name: TAXA2, dtype: object"
            ]
          },
          "metadata": {},
          "execution_count": 25
        }
      ]
    },
    {
      "cell_type": "markdown",
      "source": [
        "#### Números de casos de câncers entre pessoas de 10 a 14 anos divididos por estado"
      ],
      "metadata": {
        "id": "n5MJQcnRfaeO"
      }
    },
    {
      "cell_type": "code",
      "source": [
        "dados.groupby(['LOCALIDADE']).TAXA3.max().sort_values(ascending=False)[:12]"
      ],
      "metadata": {
        "colab": {
          "base_uri": "https://localhost:8080/"
        },
        "id": "yjr9XBzXfOdU",
        "outputId": "e9046ee9-2d77-4bb3-f782-509ff7072bd0"
      },
      "execution_count": null,
      "outputs": [
        {
          "output_type": "execute_result",
          "data": {
            "text/plain": [
              "LOCALIDADE\n",
              "-     10 a 14\n",
              "MA       0,19\n",
              "AL       0,06\n",
              "BA       0,06\n",
              "CE       0,05\n",
              "PE       0,02\n",
              "PB          0\n",
              "PI          0\n",
              "RN          0\n",
              "SE          0\n",
              "Name: TAXA3, dtype: object"
            ]
          },
          "metadata": {},
          "execution_count": 9
        }
      ]
    },
    {
      "cell_type": "markdown",
      "source": [
        "#### Números de casos de câncers entre pessoas de 15 a 19 anos divididos por estado"
      ],
      "metadata": {
        "id": "bp6lZXRTfnck"
      }
    },
    {
      "cell_type": "code",
      "source": [
        "dados.groupby(['LOCALIDADE']).TAXA4.max().sort_values(ascending=False)[:12]"
      ],
      "metadata": {
        "colab": {
          "base_uri": "https://localhost:8080/"
        },
        "id": "Pq7ucn8Jfouc",
        "outputId": "bf621f6d-cad2-4e28-cdc2-ea84a0335e09"
      },
      "execution_count": null,
      "outputs": [
        {
          "output_type": "execute_result",
          "data": {
            "text/plain": [
              "LOCALIDADE\n",
              "-     15 a 19\n",
              "PB       0,43\n",
              "RN       0,34\n",
              "PI       0,28\n",
              "AL       0,25\n",
              "PE       0,25\n",
              "BA        0,2\n",
              "SE       0,19\n",
              "MA       0,18\n",
              "CE       0,17\n",
              "Name: TAXA4, dtype: object"
            ]
          },
          "metadata": {},
          "execution_count": 10
        }
      ]
    },
    {
      "cell_type": "markdown",
      "source": [
        "#### Números de casos de câncers entre pessoas de 20 a 29 anos divididos por estado"
      ],
      "metadata": {
        "id": "q3YqBFsAf8xu"
      }
    },
    {
      "cell_type": "code",
      "source": [
        "dados.groupby(['LOCALIDADE']).TAXA5.max().sort_values(ascending=False)[:12]"
      ],
      "metadata": {
        "colab": {
          "base_uri": "https://localhost:8080/"
        },
        "id": "FVtVE8hTgBY0",
        "outputId": "236ac20a-d561-4ebd-fdfb-edeb4219cf7a"
      },
      "execution_count": null,
      "outputs": [
        {
          "output_type": "execute_result",
          "data": {
            "text/plain": [
              "LOCALIDADE\n",
              "-     20 a 29\n",
              "AL       1,66\n",
              "PI       1,63\n",
              "PE       1,46\n",
              "PB       1,34\n",
              "MA       1,32\n",
              "RN       1,31\n",
              "SE       1,31\n",
              "CE       1,23\n",
              "BA       1,01\n",
              "Name: TAXA5, dtype: object"
            ]
          },
          "metadata": {},
          "execution_count": 11
        }
      ]
    },
    {
      "cell_type": "code",
      "source": [
        "#Gráfico da TAXA5 dividido por estados.\n",
        "sns.scatterplot(data=dados, x= 'LOCALIDADE', y = 'TAXA5')"
      ],
      "metadata": {
        "colab": {
          "base_uri": "https://localhost:8080/",
          "height": 304
        },
        "id": "dD4DF4PhyLLp",
        "outputId": "ac0a38f1-41c1-4f6b-de84-297129df5b8c"
      },
      "execution_count": null,
      "outputs": [
        {
          "output_type": "execute_result",
          "data": {
            "text/plain": [
              "<matplotlib.axes._subplots.AxesSubplot at 0x7ff966228710>"
            ]
          },
          "metadata": {},
          "execution_count": 41
        },
        {
          "output_type": "display_data",
          "data": {
            "text/plain": [
              "<Figure size 432x288 with 1 Axes>"
            ],
            "image/png": "[encoded data removed]"
          },
          "metadata": {
            "needs_background": "light"
          }
        }
      ]
    },
    {
      "cell_type": "markdown",
      "source": [
        "#### Números de casos de câncers entre pessoas de 30 a 39 anos divididos por estado"
      ],
      "metadata": {
        "id": "G-gdJZpMgRzU"
      }
    },
    {
      "cell_type": "code",
      "source": [
        "dados.groupby(['LOCALIDADE']).TAXA6.max().sort_values(ascending=False)[:12]"
      ],
      "metadata": {
        "colab": {
          "base_uri": "https://localhost:8080/"
        },
        "id": "SY5Bk8AjgSRE",
        "outputId": "d72795ec-3562-4deb-95f4-36365d2088a8"
      },
      "execution_count": null,
      "outputs": [
        {
          "output_type": "execute_result",
          "data": {
            "text/plain": [
              "LOCALIDADE\n",
              "SE       9,75\n",
              "PI       8,51\n",
              "MA       8,25\n",
              "PE       7,85\n",
              "CE       7,45\n",
              "RN       6,74\n",
              "AL        6,6\n",
              "PB       6,55\n",
              "BA       6,34\n",
              "-     30 a 39\n",
              "Name: TAXA6, dtype: object"
            ]
          },
          "metadata": {},
          "execution_count": 13
        }
      ]
    },
    {
      "cell_type": "code",
      "source": [
        "#Gráfico da TAXA6 dividido por estados.\n",
        "sns.scatterplot(data=dados, x= 'LOCALIDADE', y = 'TAXA6')"
      ],
      "metadata": {
        "colab": {
          "base_uri": "https://localhost:8080/",
          "height": 304
        },
        "id": "nu7bDOhqyasM",
        "outputId": "8015ff83-5543-4d77-d638-cdb323b7c246"
      },
      "execution_count": null,
      "outputs": [
        {
          "output_type": "execute_result",
          "data": {
            "text/plain": [
              "<matplotlib.axes._subplots.AxesSubplot at 0x7f24bb555fd0>"
            ]
          },
          "metadata": {},
          "execution_count": 15
        },
        {
          "output_type": "display_data",
          "data": {
            "text/plain": [
              "<Figure size 432x288 with 1 Axes>"
            ],
            "image/png": "[encoded data removed]"
          },
          "metadata": {
            "needs_background": "light"
          }
        }
      ]
    },
    {
      "cell_type": "markdown",
      "source": [
        "#### Números de casos de câncers entre pessoas de 40 a 49 anos divididos por estado"
      ],
      "metadata": {
        "id": "e7PHzEWYhUS3"
      }
    },
    {
      "cell_type": "code",
      "source": [
        "dados.groupby(['LOCALIDADE']).TAXA7.max().sort_values(ascending=False)[:12]"
      ],
      "metadata": {
        "colab": {
          "base_uri": "https://localhost:8080/"
        },
        "id": "e0ZB3cyfhUqs",
        "outputId": "2b5920cd-633f-4f0f-810c-d8ab506d12fd"
      },
      "execution_count": null,
      "outputs": [
        {
          "output_type": "execute_result",
          "data": {
            "text/plain": [
              "LOCALIDADE\n",
              "-     40 a 49\n",
              "PE      23,68\n",
              "SE      23,09\n",
              "CE      22,49\n",
              "MA      22,15\n",
              "AL      22,11\n",
              "PI      21,71\n",
              "RN      20,92\n",
              "PB      20,58\n",
              "BA      19,85\n",
              "Name: TAXA7, dtype: object"
            ]
          },
          "metadata": {},
          "execution_count": 16
        }
      ]
    },
    {
      "cell_type": "code",
      "source": [
        "#Gráfico da TAXA7 dividido por estados.\n",
        "sns.scatterplot(data=dados, x= 'LOCALIDADE', y = 'TAXA7')"
      ],
      "metadata": {
        "colab": {
          "base_uri": "https://localhost:8080/",
          "height": 304
        },
        "id": "GGx5sxRxyw6J",
        "outputId": "3d080da1-5da1-4870-c8e9-24680bff2216"
      },
      "execution_count": null,
      "outputs": [
        {
          "output_type": "execute_result",
          "data": {
            "text/plain": [
              "<matplotlib.axes._subplots.AxesSubplot at 0x7f24bb4e0390>"
            ]
          },
          "metadata": {},
          "execution_count": 17
        },
        {
          "output_type": "display_data",
          "data": {
            "text/plain": [
              "<Figure size 432x288 with 1 Axes>"
            ],
            "image/png": "[encoded data removed]"
          },
          "metadata": {
            "needs_background": "light"
          }
        }
      ]
    },
    {
      "cell_type": "markdown",
      "source": [
        "#### Números de casos de câncers entre pessoas de 50 a 59 anos divididos por estado"
      ],
      "metadata": {
        "id": "FZ83v5ODip2L"
      }
    },
    {
      "cell_type": "code",
      "source": [
        "dados.groupby(['LOCALIDADE']).TAXA8.max().sort_values(ascending=False)[:10]"
      ],
      "metadata": {
        "colab": {
          "base_uri": "https://localhost:8080/"
        },
        "id": "ygjtchLziqT1",
        "outputId": "dbebe496-424d-4d4a-da06-485e85817781"
      },
      "execution_count": null,
      "outputs": [
        {
          "output_type": "execute_result",
          "data": {
            "text/plain": [
              "LOCALIDADE\n",
              "SE      63,72\n",
              "CE      62,02\n",
              "PE      60,59\n",
              "RN      59,53\n",
              "AL      51,52\n",
              "PI      51,17\n",
              "PB      50,01\n",
              "-     50 a 59\n",
              "MA      49,59\n",
              "BA      47,91\n",
              "Name: TAXA8, dtype: object"
            ]
          },
          "metadata": {},
          "execution_count": 18
        }
      ]
    },
    {
      "cell_type": "code",
      "source": [
        "#Gráfico da TAXA8 dividido por estados.\n",
        "sns.scatterplot(data=dados, x= 'LOCALIDADE', y = 'TAXA8')"
      ],
      "metadata": {
        "colab": {
          "base_uri": "https://localhost:8080/",
          "height": 304
        },
        "id": "-AYzKRLyy0yL",
        "outputId": "0de9bb96-55a9-4ffe-9046-24897273e09b"
      },
      "execution_count": null,
      "outputs": [
        {
          "output_type": "execute_result",
          "data": {
            "text/plain": [
              "<matplotlib.axes._subplots.AxesSubplot at 0x7f24bb44b7d0>"
            ]
          },
          "metadata": {},
          "execution_count": 19
        },
        {
          "output_type": "display_data",
          "data": {
            "text/plain": [
              "<Figure size 432x288 with 1 Axes>"
            ],
            "image/png": "[encoded data removed]"
          },
          "metadata": {
            "needs_background": "light"
          }
        }
      ]
    },
    {
      "cell_type": "markdown",
      "source": [
        "#### Números de casos de câncers entre pessoas de 60 a 69 anos divididos por estado"
      ],
      "metadata": {
        "id": "ygNMc2-9i3wT"
      }
    },
    {
      "cell_type": "code",
      "source": [
        "dados.groupby(['LOCALIDADE']).TAXA9.max().sort_values(ascending=False)[:10]"
      ],
      "metadata": {
        "colab": {
          "base_uri": "https://localhost:8080/"
        },
        "id": "YIP05sZgi5Hc",
        "outputId": "f9dd1c36-61d0-4cb0-fdbf-481c23fec304"
      },
      "execution_count": null,
      "outputs": [
        {
          "output_type": "execute_result",
          "data": {
            "text/plain": [
              "LOCALIDADE\n",
              "-     60 a 69\n",
              "CE     141,77\n",
              "PE     135,55\n",
              "RN     132,87\n",
              "PI     130,12\n",
              "SE     129,02\n",
              "PB     118,84\n",
              "BA     111,81\n",
              "MA      111,7\n",
              "AL     106,71\n",
              "Name: TAXA9, dtype: object"
            ]
          },
          "metadata": {},
          "execution_count": 20
        }
      ]
    },
    {
      "cell_type": "code",
      "source": [
        "#Gráfico da TAXA9 dividido por estados.\n",
        "sns.scatterplot(data=dados, x= 'LOCALIDADE', y = 'TAXA9')"
      ],
      "metadata": {
        "colab": {
          "base_uri": "https://localhost:8080/",
          "height": 304
        },
        "id": "bgeHx7oAy4C5",
        "outputId": "6e059362-7f0b-4a39-f363-b95448a99e45"
      },
      "execution_count": null,
      "outputs": [
        {
          "output_type": "execute_result",
          "data": {
            "text/plain": [
              "<matplotlib.axes._subplots.AxesSubplot at 0x7f24bb3c3b10>"
            ]
          },
          "metadata": {},
          "execution_count": 21
        },
        {
          "output_type": "display_data",
          "data": {
            "text/plain": [
              "<Figure size 432x288 with 1 Axes>"
            ],
            "image/png": "[encoded data removed]"
          },
          "metadata": {
            "needs_background": "light"
          }
        }
      ]
    },
    {
      "cell_type": "markdown",
      "source": [
        "#### Números de casos de câncers entre pessoas de 70 a 79 anos divididos por estado"
      ],
      "metadata": {
        "id": "tUjukxS0jDI0"
      }
    },
    {
      "cell_type": "code",
      "source": [
        "dados.groupby(['LOCALIDADE']).TAXA10.max().sort_values(ascending=False)[:10]"
      ],
      "metadata": {
        "colab": {
          "base_uri": "https://localhost:8080/"
        },
        "id": "7LjQ_E9ujDr8",
        "outputId": "f1be11d7-19d0-4597-9141-f1c54974176c"
      },
      "execution_count": null,
      "outputs": [
        {
          "output_type": "execute_result",
          "data": {
            "text/plain": [
              "LOCALIDADE\n",
              "-     70 a 79\n",
              "CE     295,95\n",
              "PE     277,03\n",
              "RN      276,6\n",
              "SE     270,36\n",
              "PI     268,96\n",
              "PB     238,67\n",
              "MA     235,01\n",
              "BA     219,58\n",
              "AL     214,23\n",
              "Name: TAXA10, dtype: object"
            ]
          },
          "metadata": {},
          "execution_count": 22
        }
      ]
    },
    {
      "cell_type": "code",
      "source": [
        "#Gráfico da TAXA10 dividido por estados.\n",
        "sns.scatterplot(data=dados, x= 'LOCALIDADE', y = 'TAXA10')"
      ],
      "metadata": {
        "colab": {
          "base_uri": "https://localhost:8080/",
          "height": 304
        },
        "id": "t5IKAU9Yy7vq",
        "outputId": "3defcfdb-257c-4554-ca37-cec57e7ee008"
      },
      "execution_count": null,
      "outputs": [
        {
          "output_type": "execute_result",
          "data": {
            "text/plain": [
              "<matplotlib.axes._subplots.AxesSubplot at 0x7f24bb330990>"
            ]
          },
          "metadata": {},
          "execution_count": 24
        },
        {
          "output_type": "display_data",
          "data": {
            "text/plain": [
              "<Figure size 432x288 with 1 Axes>"
            ],
            "image/png": "[encoded data removed]"
          },
          "metadata": {
            "needs_background": "light"
          }
        }
      ]
    },
    {
      "cell_type": "markdown",
      "source": [
        "#### Números de casos de câncers entre pessoas de 80 ou mais anos divididos por estado"
      ],
      "metadata": {
        "id": "kX-OO5I0j4QK"
      }
    },
    {
      "cell_type": "code",
      "source": [
        "dados.groupby(['LOCALIDADE']).TAXA11.max().sort_values(ascending=False)[:10]"
      ],
      "metadata": {
        "colab": {
          "base_uri": "https://localhost:8080/"
        },
        "id": "Dcc91JYOj41a",
        "outputId": "63d4dde0-729e-4e76-98db-041bfd302cbe"
      },
      "execution_count": null,
      "outputs": [
        {
          "output_type": "execute_result",
          "data": {
            "text/plain": [
              "LOCALIDADE\n",
              "-     80 ou mais\n",
              "PI         613,7\n",
              "CE        605,43\n",
              "PE        588,48\n",
              "SE        586,55\n",
              "RN        566,34\n",
              "PB        532,27\n",
              "BA        476,45\n",
              "AL        427,25\n",
              "MA        422,85\n",
              "Name: TAXA11, dtype: object"
            ]
          },
          "metadata": {},
          "execution_count": 25
        }
      ]
    },
    {
      "cell_type": "code",
      "source": [
        "#Gráfico da TAXA11 dividido por estados.\n",
        "sns.scatterplot(data=dados, x= 'LOCALIDADE', y = 'TAXA11')"
      ],
      "metadata": {
        "colab": {
          "base_uri": "https://localhost:8080/",
          "height": 304
        },
        "id": "st-TgXJWy-Bz",
        "outputId": "4f22f99a-e81f-4d21-d669-62f84b069340"
      },
      "execution_count": null,
      "outputs": [
        {
          "output_type": "execute_result",
          "data": {
            "text/plain": [
              "<matplotlib.axes._subplots.AxesSubplot at 0x7f24bb19d850>"
            ]
          },
          "metadata": {},
          "execution_count": 31
        },
        {
          "output_type": "display_data",
          "data": {
            "text/plain": [
              "<Figure size 432x288 with 1 Axes>"
            ],
            "image/png": "[encoded data removed]"
          },
          "metadata": {
            "needs_background": "light"
          }
        }
      ]
    },
    {
      "cell_type": "code",
      "source": [
        "#Consultando todos os dados pelo Estado\n",
        "dados[dados['LOCALIDADE']  == 'PB']"
      ],
      "metadata": {
        "colab": {
          "base_uri": "https://localhost:8080/",
          "height": 142
        },
        "id": "2GmEtQiUsUym",
        "outputId": "15bbe024-c17b-4a48-ae1d-b88d175757e5"
      },
      "execution_count": null,
      "outputs": [
        {
          "output_type": "execute_result",
          "data": {
            "text/plain": [
              "  LOCALIDADE TAXA1 TAXA2 TAXA3 TAXA4 TAXA5 TAXA6  TAXA7  TAXA8   TAXA9  \\\n",
              "5         PB  0,06     0     0  0,43  1,34  6,55  20,58  50,01  118,84   \n",
              "\n",
              "   TAXA10  TAXA11 Idade ignorada TAXA BRUTA Classificação Pop. Mundial(1)  \\\n",
              "5  238,67  532,27              0      33,41             2           28,82   \n",
              "\n",
              "  Pop. Brasil(2)  \n",
              "5          31,96  "
            ],
            "text/html": [
              "\n",
              "  <div id=\"df-c0babc8b-ec36-4203-8684-d7b74aa1fcea\">\n",
              "    <div class=\"colab-df-container\">\n",
              "      <div>\n",
              "<style scoped>\n",
              "    .dataframe tbody tr th:only-of-type {\n",
              "        vertical-align: middle;\n",
              "    }\n",
              "\n",
              "    .dataframe tbody tr th {\n",
              "        vertical-align: top;\n",
              "    }\n",
              "\n",
              "    .dataframe thead th {\n",
              "        text-align: right;\n",
              "    }\n",
              "</style>\n",
              "<table border=\"1\" class=\"dataframe\">\n",
              "  <thead>\n",
              "    <tr style=\"text-align: right;\">\n",
              "      <th></th>\n",
              "      <th>LOCALIDADE</th>\n",
              "      <th>TAXA1</th>\n",
              "      <th>TAXA2</th>\n",
              "      <th>TAXA3</th>\n",
              "      <th>TAXA4</th>\n",
              "      <th>TAXA5</th>\n",
              "      <th>TAXA6</th>\n",
              "      <th>TAXA7</th>\n",
              "      <th>TAXA8</th>\n",
              "      <th>TAXA9</th>\n",
              "      <th>TAXA10</th>\n",
              "      <th>TAXA11</th>\n",
              "      <th>Idade ignorada</th>\n",
              "      <th>TAXA BRUTA</th>\n",
              "      <th>Classificação</th>\n",
              "      <th>Pop. Mundial(1)</th>\n",
              "      <th>Pop. Brasil(2)</th>\n",
              "    </tr>\n",
              "  </thead>\n",
              "  <tbody>\n",
              "    <tr>\n",
              "      <th>5</th>\n",
              "      <td>PB</td>\n",
              "      <td>0,06</td>\n",
              "      <td>0</td>\n",
              "      <td>0</td>\n",
              "      <td>0,43</td>\n",
              "      <td>1,34</td>\n",
              "      <td>6,55</td>\n",
              "      <td>20,58</td>\n",
              "      <td>50,01</td>\n",
              "      <td>118,84</td>\n",
              "      <td>238,67</td>\n",
              "      <td>532,27</td>\n",
              "      <td>0</td>\n",
              "      <td>33,41</td>\n",
              "      <td>2</td>\n",
              "      <td>28,82</td>\n",
              "      <td>31,96</td>\n",
              "    </tr>\n",
              "  </tbody>\n",
              "</table>\n",
              "</div>\n",
              "      <button class=\"colab-df-convert\" onclick=\"convertToInteractive('df-c0babc8b-ec36-4203-8684-d7b74aa1fcea')\"\n",
              "              title=\"Convert this dataframe to an interactive table.\"\n",
              "              style=\"display:none;\">\n",
              "        \n",
              "  <svg xmlns=\"http://www.w3.org/2000/svg\" height=\"24px\"viewBox=\"0 0 24 24\"\n",
              "       width=\"24px\">\n",
              "    <path d=\"M0 0h24v24H0V0z\" fill=\"none\"/>\n",
              "    <path d=\"M18.56 5.44l.94 2.06.94-2.06 2.06-.94-2.06-.94-.94-2.06-.94 2.06-2.06.94zm-11 1L8.5 8.5l.94-2.06 2.06-.94-2.06-.94L8.5 2.5l-.94 2.06-2.06.94zm10 10l.94 2.06.94-2.06 2.06-.94-2.06-.94-.94-2.06-.94 2.06-2.06.94z\"/><path d=\"M17.41 7.96l-1.37-1.37c-.4-.4-.92-.59-1.43-.59-.52 0-1.04.2-1.43.59L10.3 9.45l-7.72 7.72c-.78.78-.78 2.05 0 2.83L4 21.41c.39.39.9.59 1.41.59.51 0 1.02-.2 1.41-.59l7.78-7.78 2.81-2.81c.8-.78.8-2.07 0-2.86zM5.41 20L4 18.59l7.72-7.72 1.47 1.35L5.41 20z\"/>\n",
              "  </svg>\n",
              "      </button>\n",
              "      \n",
              "  <style>\n",
              "    .colab-df-container {\n",
              "      display:flex;\n",
              "      flex-wrap:wrap;\n",
              "      gap: 12px;\n",
              "    }\n",
              "\n",
              "    .colab-df-convert {\n",
              "      background-color: #E8F0FE;\n",
              "      border: none;\n",
              "      border-radius: 50%;\n",
              "      cursor: pointer;\n",
              "      display: none;\n",
              "      fill: #1967D2;\n",
              "      height: 32px;\n",
              "      padding: 0 0 0 0;\n",
              "      width: 32px;\n",
              "    }\n",
              "\n",
              "    .colab-df-convert:hover {\n",
              "      background-color: #E2EBFA;\n",
              "      box-shadow: 0px 1px 2px rgba(60, 64, 67, 0.3), 0px 1px 3px 1px rgba(60, 64, 67, 0.15);\n",
              "      fill: #174EA6;\n",
              "    }\n",
              "\n",
              "    [theme=dark] .colab-df-convert {\n",
              "      background-color: #3B4455;\n",
              "      fill: #D2E3FC;\n",
              "    }\n",
              "\n",
              "    [theme=dark] .colab-df-convert:hover {\n",
              "      background-color: #434B5C;\n",
              "      box-shadow: 0px 1px 3px 1px rgba(0, 0, 0, 0.15);\n",
              "      filter: drop-shadow(0px 1px 2px rgba(0, 0, 0, 0.3));\n",
              "      fill: #FFFFFF;\n",
              "    }\n",
              "  </style>\n",
              "\n",
              "      <script>\n",
              "        const buttonEl =\n",
              "          document.querySelector('#df-c0babc8b-ec36-4203-8684-d7b74aa1fcea button.colab-df-convert');\n",
              "        buttonEl.style.display =\n",
              "          google.colab.kernel.accessAllowed ? 'block' : 'none';\n",
              "\n",
              "        async function convertToInteractive(key) {\n",
              "          const element = document.querySelector('#df-c0babc8b-ec36-4203-8684-d7b74aa1fcea');\n",
              "          const dataTable =\n",
              "            await google.colab.kernel.invokeFunction('convertToInteractive',\n",
              "                                                     [key], {});\n",
              "          if (!dataTable) return;\n",
              "\n",
              "          const docLinkHtml = 'Like what you see? Visit the ' +\n",
              "            '<a target=\"_blank\" href=https://colab.research.google.com/notebooks/data_table.ipynb>data table notebook</a>'\n",
              "            + ' to learn more about interactive tables.';\n",
              "          element.innerHTML = '';\n",
              "          dataTable['output_type'] = 'display_data';\n",
              "          await google.colab.output.renderOutput(dataTable, element);\n",
              "          const docLink = document.createElement('div');\n",
              "          docLink.innerHTML = docLinkHtml;\n",
              "          element.appendChild(docLink);\n",
              "        }\n",
              "      </script>\n",
              "    </div>\n",
              "  </div>\n",
              "  "
            ]
          },
          "metadata": {},
          "execution_count": 29
        }
      ]
    },
    {
      "cell_type": "code",
      "source": [
        ""
      ],
      "metadata": {
        "id": "j1g2oqMgi7Vu"
      },
      "execution_count": null,
      "outputs": []
    }
  ]
}